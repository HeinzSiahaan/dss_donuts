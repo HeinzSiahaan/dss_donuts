{
 "cells": [
  {
   "cell_type": "markdown",
   "metadata": {},
   "source": [
    "# DSS: Streamlining Invoice Processing\n",
    "### Document Understanding Transformer for Efficient Business Operations in Python\n",
    "\n",
    "<div class=\"alert alert-success\">\n",
    "<b>Inclass: Data Science Series - Streamlining Invoice Processing </b>\n",
    "\n",
    "- 💻 Detail Material: [Document Understanding Transformer](https://github.com/clovaai/donut) for Efficient Business Operations in Python\n",
    "- 👩🏻‍🏫 Instructor: Fiqey Indriati Eka Sari\n",
    "\n",
    "© Algoritma 2024\n",
    "___\n",
    "</div>"
   ]
  },
  {
   "cell_type": "markdown",
   "metadata": {},
   "source": [
    "# Background \n",
    "Di dalam lanskap operasional bisnis yang terus berkembang dengan cepat, menguasai pemrosesan faktur yang efektif menjadi sangat penting. Pemrosesan faktur adalah bagian kritis dari kegiatan bisnis yang melibatkan pengelolaan keuangan dan akuntansi. Faktur yang diproses dengan baik membantu dalam pelacakan pengeluaran, mengoptimalkan arus kas, dan memastikan kepatuhan terhadap peraturan keuangan. Dengan lanskap bisnis yang cepat berubah, perusahaan perlu dapat beradaptasi dengan cepat. Menguasai pemrosesan faktur menjadi penting untuk mengatasi ketidakpastian dan menjaga kecepatan tanggapan terhadap perubahan di sekitarnya.\n",
    "\n",
    "Materi ini menawarkan solusi komprehensif dengan workshop khusus yang dilengkapi dengan keterampilan terkini. Fokusnya adalah pada penggunaan Document Understanding Transformer, sebuah model deep learning NLP, dengan pemrograman Python. Dengan menyelami teknologi ini, yang terbukti berhasil dalam tugas pemrosesan bahasa alami, peserta akan memperoleh keahlian untuk menyederhanakan dan meningkatkan alur kerja pemrosesan faktur. \n",
    "\n",
    "# Output\n",
    "\n",
    "Setelah menyelesaikan workshop ini, Anda akan dapat:\n",
    "\n",
    "- Memanfaatkan Document Understanding Transformer (Donut) untuk ekstraksi data yang akurat dari gambar penerimaan, mengoptimalkan alur kerja pemrosesan faktur.\n",
    "- Meningkatkan keterampilan analisis data untuk pengambilan keputusan yang terinformasi dalam operasional bisnis dengan memanfaatkan hasil keluaran dari Document Understanding Transformer.\n",
    "- Membangun aplikasi web yang ramah pengguna dengan alat seperti Gradio untuk pemindaian efisien penerimaan dan faktur, secara mulus sejalan dengan kebutuhan bisnis modern untuk proses keuangan yang efisien."
   ]
  },
  {
   "cell_type": "markdown",
   "metadata": {},
   "source": [
    "# 🎯 Training Objectives\n",
    "\n",
    "**Python Programming Basics**\n",
    "\n",
    "- Anaconda Environment Preparation\n",
    "- Working with Jupyter Notebook (.ipynb)\n",
    "- Understanding Fundamental of Variables & Python Data Types\n",
    "- Exploring Python If-Else Statements, Functions, and Looping Concepts\n",
    "\n",
    "**Working with DataFrame Pandas**\n",
    "\n",
    "- Understanding Dataframe `pandas`\n",
    "- Master Data Manipulation and Pre-processing\n",
    "- Perform Conditional Subsetting Operations\n",
    "\n",
    "**Document Understanding Transformer (Donut) Utilization**\n",
    "\n",
    "- Introduction to 🍩 OCR-free Document Understanding Transformer (Donut) Model\n",
    "- Document Information Extraction using Donut \n",
    "- Data Analysis Enhancement with Donut Outputs\n",
    "\n",
    "**Integration Gradio for Efficient Scanning**\n",
    "\n",
    "- Understand the Fundamentals of Gradio \n",
    "- Develop Gradio for Efficient Receipt and Invoice Scanning\n"
   ]
  },
  {
   "cell_type": "markdown",
   "metadata": {},
   "source": [
    "# Python Programming Basics\n",
    "## Anaconda Environment Preparation"
   ]
  },
  {
   "cell_type": "markdown",
   "metadata": {},
   "source": [
    "### Cara Membuat Environtment Baru:\n",
    "\n",
    "- **1️⃣ Membuka Terminal pada Visual Studio Code**\n",
    "\n",
    "    Saat pertama kali kita membuka Visual Studio Code, terdapat beberapa menu di pojok kiri atas. Silahkan kamu klik menu **Terminal** pada bagian kiri atas. Lalu, pilih **`New Terminal`**. Selesai, kamu berhasil membuka terminal baru.\n",
    "\n",
    "\n",
    "- **2️⃣ Buat Environment dengan Nama `ENV_NAME`**:\n",
    "   \n",
    "    ```conda create -n dss_invoice python=3.10```\n",
    "\n",
    "    Tujuan dari kita menuliskan `python=3.10` agar python yang terinstall pada virtual environtment yang kita buat adalah python dengan versi 3.10. \n",
    "\n",
    "\n",
    "- **3️⃣ Mengaktifkan Environment**\n",
    "\n",
    "    Setelah virtual environtment yang baru kita buat sudah selesai, kita bisa mengaktifkan environtment yang sudah kita buat dengan code berikut.\n",
    "\n",
    "    ```conda activate dss_invoice```"
   ]
  },
  {
   "cell_type": "markdown",
   "metadata": {},
   "source": [
    "### Install/Update Package\n",
    "Sebelum melakukan instalasi package, pastikan Anda sudah melakukan aktivasi virtual environment tempat Anda mau menginstall package.\n",
    "```pip install <PACKAGE_NAME>```\n",
    "\n",
    "Kita juga bisa menginstallnya melalui sebuah teks `reqirements.txt` yang berisi list packages yang perlu diinstall, commandnya `pip install -r requirements.txt` dengan syarat sebelum menjalankan command ini, kita sudah berapa pada folder material utama"
   ]
  },
  {
   "cell_type": "markdown",
   "metadata": {},
   "source": [
    "### 🧪 Knowledge Check\n",
    "\n",
    "Pilihlah jawaban yang tepat dengan memberikan tanda centang pada kotak. \n",
    "\n",
    "1. Berikut adalah tujuan kita membuat virtual environment, **KECUALI** ...\n",
    "\n",
    "    - [ ] Kolaborasi (sharing environment)\n",
    "    - [ ] Mengisolasi package beserta versi-nya\n",
    "    - [X] Virtual environment harus dibuat agar Python dapat dijalankan\n",
    "\n",
    "3. Pasangkan beberapa opsi ini dengan pilihan yang cocok:\n",
    "    - Visual Studio Code: c. Integrated Development Environment (IDE) \n",
    "    - Miniconda: b. Environment Manager\n",
    "    - Python: a. Bahasa Pemrograman"
   ]
  },
  {
   "cell_type": "markdown",
   "metadata": {},
   "source": [
    "## Working with Jupyter Notebook (.ipynb)"
   ]
  },
  {
   "cell_type": "markdown",
   "metadata": {},
   "source": [
    "#### Markdown Cell dan Code Cell"
   ]
  },
  {
   "cell_type": "code",
   "execution_count": null,
   "metadata": {},
   "outputs": [],
   "source": []
  },
  {
   "cell_type": "markdown",
   "metadata": {},
   "source": [
    "- Hari ini belajar _DSS_ **Donut**\n",
    "1. XX"
   ]
  },
  {
   "cell_type": "markdown",
   "metadata": {},
   "source": [
    "Tipe cell dalam notebook:\n",
    "\n",
    "**1️⃣ Markdown** : untuk menuliskan narasi\n",
    "\n",
    "Ini adalah cell markdown. Kita bisa menulis teks **bold**, *italic*, bahkan formula matematis seperti:\n",
    "\n",
    "\\begin{equation}\n",
    "f(x) = \\frac{e^{-x}}{(1+e^{-x})}\n",
    "\\end{equation}"
   ]
  },
  {
   "cell_type": "markdown",
   "metadata": {},
   "source": [
    "Cara menambahkan gambar:\n",
    "\n",
    "`<img src=\"...\" width=\"500px\"></img>`"
   ]
  },
  {
   "cell_type": "code",
   "execution_count": null,
   "metadata": {},
   "outputs": [],
   "source": []
  },
  {
   "cell_type": "markdown",
   "metadata": {},
   "source": [
    "**2️⃣ Code** : untuk menuliskan script code\n",
    "\n",
    "💡 symbol `#` pada cell code berarti adalah sebuah `comment`. **`Comment` pada cell code tidak akan dieksekusi**"
   ]
  },
  {
   "cell_type": "code",
   "execution_count": 1,
   "metadata": {},
   "outputs": [
    {
     "name": "stdout",
     "output_type": "stream",
     "text": [
      "dan ini adalah cell code tempat menuliskan code python\n"
     ]
    }
   ],
   "source": [
    "# ini merupakan cell untuk code\n",
    "print(\"dan ini adalah cell code tempat menuliskan code python\")"
   ]
  },
  {
   "cell_type": "markdown",
   "metadata": {},
   "source": [
    "> Untuk run cell code: Ctrl + Alt + Enter"
   ]
  },
  {
   "cell_type": "markdown",
   "metadata": {},
   "source": [
    "#### Command Mode and Edit Mode\n",
    "\n",
    "Ada 2 mode cell dalam notebook:\n",
    "1. **1️⃣ Command Mode**\n",
    "    - `a` : Menambah cell baru di atas\n",
    "    - `b` : Menambah cell baru di bawah\n",
    "    - `d` + `d` : Menghapus cell terpilih\n",
    "    - `c` : Menyalin cell terpilih\n",
    "    - `v` : Paste cell terpilih\n",
    "    - `m` : Mengubah tipe cell ke markdown\n",
    "    - `y` : Mengubah tipe cell ke kode\n",
    "    - `enter` : enter Edit Mode\n",
    "\n",
    "\n",
    "2. **2️⃣ Edit Mode (Cell Terdapat Border Biru Persegi Panjang)**\n",
    "    - `Ctrl + Enter`: eksekusi satu cell\n",
    "    - `Esc`: mengubah edit mode menjadi command mode"
   ]
  },
  {
   "cell_type": "markdown",
   "metadata": {},
   "source": [
    "## Understanding Fundamental of Variables & Python Data Types\n",
    "\n",
    "### Variables \n",
    "**Variable** adalah sebuah nama yang dipakai untuk menyimpan sebuah nilai. \n",
    "\n",
    "_So if we say, data is food, then variable is where we store the food._\n",
    "\n",
    "> 💡 Tanda `=` dipakai untuk assignment dalam membuat variabel baru"
   ]
  },
  {
   "cell_type": "code",
   "execution_count": 2,
   "metadata": {},
   "outputs": [
    {
     "data": {
      "text/plain": [
       "10"
      ]
     },
     "execution_count": 2,
     "metadata": {},
     "output_type": "execute_result"
    }
   ],
   "source": [
    "angka = 10\n",
    "angka"
   ]
  },
  {
   "cell_type": "code",
   "execution_count": 3,
   "metadata": {},
   "outputs": [
    {
     "data": {
      "text/plain": [
       "10"
      ]
     },
     "execution_count": 3,
     "metadata": {},
     "output_type": "execute_result"
    }
   ],
   "source": [
    "angka"
   ]
  },
  {
   "cell_type": "markdown",
   "metadata": {},
   "source": [
    "🚀 Mari kita coba buat sebuah objek, yang berisikan nama dss ini!"
   ]
  },
  {
   "cell_type": "code",
   "execution_count": 4,
   "metadata": {},
   "outputs": [
    {
     "name": "stdout",
     "output_type": "stream",
     "text": [
      "Data Science Series: Streamlining Invoice Processing\n"
     ]
    }
   ],
   "source": [
    "dss_name = \"Data Science Series: Streamlining Invoice Processing\"\n",
    "print(dss_name)"
   ]
  },
  {
   "cell_type": "markdown",
   "metadata": {},
   "source": [
    "<div class=\"alert-info alert\">\n",
    "💡 Sebagai catatan, seperti bahasa pemrograman yang lainnya, Python bersifat <b>case-sensitive</b>.\n",
    "\n",
    "Sehingga `dss_name` dan `DSS_Name` dimaknai berbeda sehingga akan dianggap variabel yang berbeda pula. Maka dari itu, penamaan variable menjadi hal yang perlu diperhatikan.\n",
    "</div>"
   ]
  },
  {
   "cell_type": "code",
   "execution_count": 5,
   "metadata": {},
   "outputs": [
    {
     "data": {
      "text/plain": [
       "True"
      ]
     },
     "execution_count": 5,
     "metadata": {},
     "output_type": "execute_result"
    }
   ],
   "source": [
    "## code here\n",
    "dss_name == dss_name"
   ]
  },
  {
   "cell_type": "code",
   "execution_count": 7,
   "metadata": {},
   "outputs": [],
   "source": [
    "# True = 11"
   ]
  },
  {
   "cell_type": "markdown",
   "metadata": {},
   "source": [
    "Kode di atas mengembalikan `True` sebagai output. Cobalah untuk membuat variabel baru dan gunakan `True` sebagai namanya. kemudian lihat apa yang akan terjadi.\n",
    "\n",
    "> SyntaxError: can't assign to keyword\n",
    "\n",
    "___\n",
    "\n",
    "Sebagai catatan, `True`, dan juga lawannya, False termasuk ke dalam daftar kata yang dinamakan **Python Keywords**. Kita tidak dapat menggunakan keyword sebagai nama variabel ataupun sebagai fungsi.\n",
    "\n",
    "Semua python keyword selain **True**, **False**, dan **None** adalah huruf kecil.\n",
    "\n",
    "___\n",
    "\n",
    "✨ **Keywords** adalah kata kunci yang sudah ditetapkan oleh Python sebagai nama yang tidak bisa dipakai baik untuk penamaan fungsi, variabel, dan lainnya. Keyword ditulis dalam lower-case (huruf kecil semua) kecuali keyword `True`, `False`, dan `None`. Sejauh ini (Python 3.10) keyword yang ada pada Python adalah sebagai berikut:"
   ]
  },
  {
   "cell_type": "code",
   "execution_count": 8,
   "metadata": {},
   "outputs": [
    {
     "data": {
      "text/plain": [
       "['False',\n",
       " 'None',\n",
       " 'True',\n",
       " 'and',\n",
       " 'as',\n",
       " 'assert',\n",
       " 'async',\n",
       " 'await',\n",
       " 'break',\n",
       " 'class',\n",
       " 'continue',\n",
       " 'def',\n",
       " 'del',\n",
       " 'elif',\n",
       " 'else',\n",
       " 'except',\n",
       " 'finally',\n",
       " 'for',\n",
       " 'from',\n",
       " 'global',\n",
       " 'if',\n",
       " 'import',\n",
       " 'in',\n",
       " 'is',\n",
       " 'lambda',\n",
       " 'nonlocal',\n",
       " 'not',\n",
       " 'or',\n",
       " 'pass',\n",
       " 'raise',\n",
       " 'return',\n",
       " 'try',\n",
       " 'while',\n",
       " 'with',\n",
       " 'yield']"
      ]
     },
     "execution_count": 8,
     "metadata": {},
     "output_type": "execute_result"
    }
   ],
   "source": [
    "# cek daftar keyword\n",
    "import keyword\n",
    "keyword.kwlist"
   ]
  },
  {
   "cell_type": "markdown",
   "metadata": {},
   "source": [
    "\n",
    "⚠️ Berikut beberapa ketentuan dalam memberikan nama variable pada Python:\n",
    "- Tidak boleh menggunakan angka di awal. Misal `1Algoritma`\n",
    "- Hanya kombinasi dari huruf kapital (A-Z), huruf nomina (a-z), angka (0-9).\n",
    "- Special character `!, $ , &, dll` tidak dapat digunakan dalam penamaan variabel.\n",
    "- Bersifat case-sensitive sehingga penamaan variable `algoritma`, `ALGORITMA`, dan `Algoritma` adalah 3 variable yang berbeda\n",
    "- Tidak boleh menggunakan keywords pada Python"
   ]
  },
  {
   "cell_type": "markdown",
   "metadata": {},
   "source": [
    "### Python Data Types\n",
    "\n",
    "> Untuk mengecek tipe data python dapat menggunakan `type()`"
   ]
  },
  {
   "cell_type": "markdown",
   "metadata": {},
   "source": [
    "#### (1) 🔠 String\n",
    "\n",
    "Python mewakili string apapun sebagai object `str`. Adapun beberapa cara untuk membuat nilai string:\n",
    "- menggunakan `''` (contoh: `'Jakarta'` atau `'saya lahir di Bekasi'`)\n",
    "- mengunakan `\"\"` (contoh: `\"hari jum'at\"`)\n",
    "- menggunakan `'''` atau `\"\"\"` (contoh: `'''Dia bersorak \"Hore! Sudah hari Jum'at\"'''`)"
   ]
  },
  {
   "cell_type": "code",
   "execution_count": 9,
   "metadata": {},
   "outputs": [
    {
     "data": {
      "text/plain": [
       "'Data Science Series: Streamlining Invoice Processing'"
      ]
     },
     "execution_count": 9,
     "metadata": {},
     "output_type": "execute_result"
    }
   ],
   "source": [
    "dss_name"
   ]
  },
  {
   "cell_type": "code",
   "execution_count": 10,
   "metadata": {},
   "outputs": [
    {
     "data": {
      "text/plain": [
       "str"
      ]
     },
     "execution_count": 10,
     "metadata": {},
     "output_type": "execute_result"
    }
   ],
   "source": [
    "# code here\n",
    "type(dss_name)"
   ]
  },
  {
   "cell_type": "markdown",
   "metadata": {},
   "source": [
    "#### (2) 🔢 Number\n",
    "\n",
    "Untuk menyimpan number, python memiliki dua tipe data asli yang disebut `int` dan `float`.\n",
    "- `int` digunakan untuk menyimpan **bilangan bulat** (yaitu: 1,2,-3)\n",
    "- `float` digunakan untuk menyimpan **bilangan real** (yaitu: 0.7, -1.8, -1000.0) 👉🏻 bilangan desimal."
   ]
  },
  {
   "cell_type": "code",
   "execution_count": 14,
   "metadata": {},
   "outputs": [],
   "source": [
    "nilai_ta = 100.0\n",
    "nilai_fiqey = 90.0 "
   ]
  },
  {
   "cell_type": "code",
   "execution_count": 15,
   "metadata": {},
   "outputs": [
    {
     "data": {
      "text/plain": [
       "float"
      ]
     },
     "execution_count": 15,
     "metadata": {},
     "output_type": "execute_result"
    }
   ],
   "source": [
    "type(nilai_ta)"
   ]
  },
  {
   "cell_type": "code",
   "execution_count": 16,
   "metadata": {},
   "outputs": [
    {
     "data": {
      "text/plain": [
       "10.0"
      ]
     },
     "execution_count": 16,
     "metadata": {},
     "output_type": "execute_result"
    }
   ],
   "source": [
    "# code here\n",
    "nilai_ta - nilai_fiqey"
   ]
  },
  {
   "cell_type": "markdown",
   "metadata": {},
   "source": [
    "**✨ Operasi Matematika ✨**\n",
    "- `+` - Penambahan\n",
    "- `-` - Pengurangan\n",
    "- `*` - Perkalian\n",
    "- `/` - Pembagian\n",
    "- `//` - Pembagian yang dibulatkan ke bawah\n",
    "- `%` - Modulus (sisa pembagian)\n",
    "- `**` - Eksponen (pangkat)"
   ]
  },
  {
   "cell_type": "markdown",
   "metadata": {},
   "source": [
    "#### (3) ✅ Boolean\n",
    "\n",
    "Boolean hanya berisikan nilai `True` atau `False`. Biasanya untuk menunjukkan kebenaran suatu kondisi"
   ]
  },
  {
   "cell_type": "code",
   "execution_count": 17,
   "metadata": {},
   "outputs": [
    {
     "data": {
      "text/plain": [
       "False"
      ]
     },
     "execution_count": 17,
     "metadata": {},
     "output_type": "execute_result"
    }
   ],
   "source": [
    "2 + 2 == 5\n",
    "# == --> untuk mengecek kondisi (apakah sama?)"
   ]
  },
  {
   "cell_type": "markdown",
   "metadata": {},
   "source": [
    "#### (4) 🗃️ List\n",
    "`list` digunakan untuk menyimpan beberapa nilai dalam python. Untuk membuatnya, cukup letakan nilai di dalam tanda kurung siku `[]`"
   ]
  },
  {
   "cell_type": "code",
   "execution_count": 18,
   "metadata": {},
   "outputs": [],
   "source": [
    "# list berikut mengandung informasi nama, kota domisili, umur, apakah sudah menikah?\n",
    "data_list = ['Sari', 'Jakarta', 27, False]\n",
    "# 0, 1, 2, 3"
   ]
  },
  {
   "cell_type": "code",
   "execution_count": 19,
   "metadata": {},
   "outputs": [
    {
     "data": {
      "text/plain": [
       "list"
      ]
     },
     "execution_count": 19,
     "metadata": {},
     "output_type": "execute_result"
    }
   ],
   "source": [
    "# cek tipe data my_list\n",
    "type(data_list)"
   ]
  },
  {
   "cell_type": "code",
   "execution_count": 20,
   "metadata": {},
   "outputs": [
    {
     "data": {
      "text/plain": [
       "27"
      ]
     },
     "execution_count": 20,
     "metadata": {},
     "output_type": "execute_result"
    }
   ],
   "source": [
    "# akses umur sari\n",
    "data_list[2]"
   ]
  },
  {
   "cell_type": "markdown",
   "metadata": {},
   "source": [
    "**✨ Operasi List ✨**\n",
    "\n",
    "Dalam sebuah list kita dapat melakukan beberapa operasi:\n",
    "- `list_x.append(a)`: Menambahkan `a` ke dalam `list_x`.\n",
    "- `list_x.remove(a)`: Menghapus nilai `a` dari `list_x`.\n",
    "\n",
    "> Operasi Indexing:\n",
    "- `list_x[i]`: Mengakses elemen ke-i dari `list_x`. \n",
    "\n",
    "📌 **Additional Information**\n",
    "\n",
    "- Python menggunakan sistem **zero based indexing** yang berarti, urutan pada python dimulai dari angka 0."
   ]
  },
  {
   "cell_type": "code",
   "execution_count": 21,
   "metadata": {},
   "outputs": [
    {
     "data": {
      "text/plain": [
       "'Jakarta'"
      ]
     },
     "execution_count": 21,
     "metadata": {},
     "output_type": "execute_result"
    }
   ],
   "source": [
    "# akses informasi kota domilisi dari seorang Sari, dimana informasi kota domilisi terletak di urutan ke-2 (index ke-1)\n",
    "data_list[1]"
   ]
  },
  {
   "cell_type": "code",
   "execution_count": 22,
   "metadata": {},
   "outputs": [
    {
     "data": {
      "text/plain": [
       "['Sari', 'Jakarta', 27, False, 'Data Scientist']"
      ]
     },
     "execution_count": 22,
     "metadata": {},
     "output_type": "execute_result"
    }
   ],
   "source": [
    "# coba kita tambahkan informasi pekerjaan 'Sari', yaitu 'Data Scientist'\n",
    "data_list.append('Data Scientist')\n",
    "data_list"
   ]
  },
  {
   "cell_type": "markdown",
   "metadata": {},
   "source": [
    "#### (5) 🧾Dictionary\n",
    "\n",
    "`dictionary` atau `dict` digunakan untuk menyimpan data dalam bentuk pasangan key-value. Dalam dictionary, setiap key harus unik, dan value-nya bisa berupa berbagai tipe data seperti string, integer, list, atau bahkan dictionary lainnya. \n",
    "\n",
    "✨Dictionary didefinisikan dengan menggunakan tanda kurung kurawal `{}`."
   ]
  },
  {
   "cell_type": "code",
   "execution_count": 23,
   "metadata": {},
   "outputs": [],
   "source": [
    "# dictionary berisi informasi tentang seseorang\n",
    "data_dict = {\n",
    "    'nama': 'Sari',\n",
    "    'kota_domisili': 'Jakarta',\n",
    "    'umur': 27,\n",
    "    'menikah': False\n",
    "}"
   ]
  },
  {
   "cell_type": "code",
   "execution_count": 24,
   "metadata": {},
   "outputs": [
    {
     "data": {
      "text/plain": [
       "dict"
      ]
     },
     "execution_count": 24,
     "metadata": {},
     "output_type": "execute_result"
    }
   ],
   "source": [
    "# code here\n",
    "type(data_dict)"
   ]
  },
  {
   "cell_type": "code",
   "execution_count": 25,
   "metadata": {},
   "outputs": [
    {
     "data": {
      "text/plain": [
       "'Jakarta'"
      ]
     },
     "execution_count": 25,
     "metadata": {},
     "output_type": "execute_result"
    }
   ],
   "source": [
    "# code here\n",
    "data_dict['kota_domisili']"
   ]
  },
  {
   "cell_type": "markdown",
   "metadata": {},
   "source": [
    "Dictionary memiliki keunggulan daripada list karena memungkinkan penyimpanan data dengan key yang bersifat unik, sehingga memudahkan akses dan manipulasi data berdasarkan identifikasi key, bukan hanya index angka."
   ]
  },
  {
   "cell_type": "markdown",
   "metadata": {},
   "source": [
    "#### 📌 Highlight Poin: Tipe Data di Python\n",
    "\n",
    "1. **String**       : berisi satu karakter atau lebih, dengan karakter yang bisa berupa huruf, angka, simbol, atau karakter khusus.\n",
    "2. **Number**       :\n",
    "    -  `int` untuk bilangan bulat\n",
    "    -  `float` untuk bilangan real.\n",
    "3. **Boolean**      : hanya berisikan nilai `True` atau `False`.\n",
    "4. **List**         : untuk menyimpan beberapa nilai dalam Python, dengan sintaks tanda kurung siku `[]`.\n",
    "5. **Dictionary**   : mirip seperti list, namun `dictionary` dalam bentuk pasangan key-value dan menggunakan syntax tanda kurung kurawal `{}`"
   ]
  },
  {
   "cell_type": "markdown",
   "metadata": {},
   "source": [
    "## Exploring Python If-Else Statements, Functions, ang Looping Concepts"
   ]
  },
  {
   "cell_type": "markdown",
   "metadata": {},
   "source": [
    "### If-Else Statements\n",
    "\n",
    "Pernyataan if-else terdiri dari suatu kondisi yang diikuti oleh blok kode yang akan dieksekusi jika kondisi tersebut benar, dan blok else yang bersifat opsional untuk kode yang akan dieksekusi jika kondisi tersebut salah.\n",
    "\n",
    "```python\n",
    "if kondisi:\n",
    "    # Kode yang akan dieksekusi jika kondisi benar\n",
    "else:\n",
    "    # Kode yang akan dieksekusi jika kondisi salah\n",
    "```\n"
   ]
  },
  {
   "cell_type": "code",
   "execution_count": 29,
   "metadata": {},
   "outputs": [
    {
     "name": "stdout",
     "output_type": "stream",
     "text": [
      "Angka ini adalah negatif.\n"
     ]
    }
   ],
   "source": [
    "angka = -10\n",
    "\n",
    "# Penggunaan if-else untuk menentukan apakah angka positif, negatif, atau nol\n",
    "if angka > 0:\n",
    "    print(\"Angka ini adalah positif.\")\n",
    "elif angka < 0: # else -if\n",
    "    print(\"Angka ini adalah negatif.\")\n",
    "else:\n",
    "    print(\"Angka ini adalah nol.\")\n"
   ]
  },
  {
   "cell_type": "markdown",
   "metadata": {},
   "source": [
    "### Function"
   ]
  },
  {
   "cell_type": "markdown",
   "metadata": {},
   "source": [
    "Function merupakan sekelompok perintah yang digunakan untuk melakukan tugas tertentu. Ketika kita melakukan sesuatu yang berulang dan rumit, alangkah baiknya kita menggunakan fungsi agar tidak ada langkah yang berubah maupun penulisan kode yang salah. Penulisan umum sebuah fungsi yaitu:\n",
    "```python\n",
    "def nama_fungsi(parameter):\n",
    "    perintah\n",
    "```\n",
    "Pada syntax umum di atas, `def` merupakan inisiator untuk sebuah fungsi. Sementara hal-hal yang harus kita tentukan yaitu nama dari fungsi, parameter yang akan digunakan di dalamnya, serta perintah atau kode. \n",
    "\n",
    "Sebagai contoh, kita akan membuat sebuah fungsi luas segitiga:"
   ]
  },
  {
   "cell_type": "code",
   "execution_count": 36,
   "metadata": {},
   "outputs": [],
   "source": [
    "# fungsi luas_segitiga\n",
    "def luas_persegi(sisi): # parameter : sesuatu yang bisa kita ubah dg mendefinisikannya saat pemanggilan fungsi\n",
    "    hasil = sisi * sisi\n",
    "    return hasil # mengembalikan hasil proses dari suatu fungsi"
   ]
  },
  {
   "cell_type": "code",
   "execution_count": 39,
   "metadata": {},
   "outputs": [
    {
     "name": "stdout",
     "output_type": "stream",
     "text": [
      "16\n"
     ]
    }
   ],
   "source": [
    "# memanggil fungsi\n",
    "result2 = luas_persegi(sisi = 4)\n",
    "# result"
   ]
  },
  {
   "cell_type": "code",
   "execution_count": 34,
   "metadata": {},
   "outputs": [
    {
     "data": {
      "text/plain": [
       "25"
      ]
     },
     "execution_count": 34,
     "metadata": {},
     "output_type": "execute_result"
    }
   ],
   "source": [
    "luas_persegi(sisi=5)"
   ]
  },
  {
   "cell_type": "markdown",
   "metadata": {},
   "source": [
    "### Looping (Perulangan)"
   ]
  },
  {
   "cell_type": "markdown",
   "metadata": {},
   "source": [
    "`for loop` digunakan untuk mengulangi/mengiterasi suatu urutan (dapat berupa list atau string)."
   ]
  },
  {
   "cell_type": "markdown",
   "metadata": {},
   "source": [
    "Contoh `for loop` untuk mengiterasi elemen pada list:"
   ]
  },
  {
   "cell_type": "code",
   "execution_count": 47,
   "metadata": {},
   "outputs": [
    {
     "name": "stdout",
     "output_type": "stream",
     "text": [
      "kota:  Jakarta\n",
      "----\n",
      "kota:  Bogor\n",
      "----\n",
      "kota:  Depok\n",
      "----\n",
      "kota:  Tangerang\n",
      "----\n",
      "kota:  Bekasi\n",
      "----\n"
     ]
    }
   ],
   "source": [
    "jabodetabek = ['Jakarta', 'Bogor', 'Depok', 'Tangerang', 'Bekasi']\n",
    "\n",
    "# for loop\n",
    "for kota in jabodetabek: # x: perwakilan nama sebuah elemen dari jabodetabek\n",
    "  print(\"kota: \",kota)\n",
    "  print(\"----\")"
   ]
  },
  {
   "cell_type": "markdown",
   "metadata": {},
   "source": [
    "# Working with Dataframe `pandas`\n",
    "\n",
    "`pandas` adalah library yang powerful sebagai tools analisis data dan struktur pada Python. Library ini memiliki kemampuan sebagai berikut:\n",
    "\n",
    "- `pandas` mampu mengolah data menjadi mudah karena mempunyai objek bernama **DataFrame**. \n",
    "\n",
    "- `pandas` memiliki function yang mampu mengolah dataframe dengan menerapkan berbagai operasi dan teknik seperti join, agregasi, grouping, dan lain sebagainya\n",
    "\n",
    "> Lebih lengkapnya silahkan kunjungi [official documentation](https://pandas.pydata.org/)\n",
    "\n",
    "Untuk menggunakan `pandas`, kita perlu import terlebih dahulu library dengan cara berikut ini:"
   ]
  },
  {
   "cell_type": "code",
   "execution_count": 48,
   "metadata": {},
   "outputs": [
    {
     "name": "stdout",
     "output_type": "stream",
     "text": [
      "2.1.4\n"
     ]
    }
   ],
   "source": [
    "import pandas as pd # aliasing\n",
    "print(pd.__version__)"
   ]
  },
  {
   "cell_type": "markdown",
   "metadata": {},
   "source": [
    "## Understanding Dataframe `pandas`"
   ]
  },
  {
   "cell_type": "markdown",
   "metadata": {},
   "source": [
    "### Read Data\n",
    "\n",
    "Untuk membaca data atau file dengan format `.csv` dapat menggunakan method `.read_csv()`.\n",
    "\n",
    "Syntax:\n",
    "```python\n",
    "pandas.read_csv(\"path/data\")\n",
    "```\n",
    "\n",
    "🚀 Bacalah data `receipts.csv` yang berada dalam folder `data_input`"
   ]
  },
  {
   "cell_type": "code",
   "execution_count": 49,
   "metadata": {},
   "outputs": [
    {
     "data": {
      "text/html": [
       "<div>\n",
       "<style scoped>\n",
       "    .dataframe tbody tr th:only-of-type {\n",
       "        vertical-align: middle;\n",
       "    }\n",
       "\n",
       "    .dataframe tbody tr th {\n",
       "        vertical-align: top;\n",
       "    }\n",
       "\n",
       "    .dataframe thead th {\n",
       "        text-align: right;\n",
       "    }\n",
       "</style>\n",
       "<table border=\"1\" class=\"dataframe\">\n",
       "  <thead>\n",
       "    <tr style=\"text-align: right;\">\n",
       "      <th></th>\n",
       "      <th>receipt_id</th>\n",
       "      <th>item_name</th>\n",
       "      <th>count</th>\n",
       "      <th>price</th>\n",
       "      <th>total_price</th>\n",
       "    </tr>\n",
       "  </thead>\n",
       "  <tbody>\n",
       "    <tr>\n",
       "      <th>0</th>\n",
       "      <td>ID0000</td>\n",
       "      <td>real ganache</td>\n",
       "      <td>1.0</td>\n",
       "      <td>16500</td>\n",
       "      <td>45500</td>\n",
       "    </tr>\n",
       "    <tr>\n",
       "      <th>1</th>\n",
       "      <td>ID0000</td>\n",
       "      <td>egg tart</td>\n",
       "      <td>1.0</td>\n",
       "      <td>13000</td>\n",
       "      <td>45500</td>\n",
       "    </tr>\n",
       "    <tr>\n",
       "      <th>2</th>\n",
       "      <td>ID0000</td>\n",
       "      <td>pizza toast</td>\n",
       "      <td>1.0</td>\n",
       "      <td>16000</td>\n",
       "      <td>45500</td>\n",
       "    </tr>\n",
       "    <tr>\n",
       "      <th>3</th>\n",
       "      <td>ID0001</td>\n",
       "      <td>kopi susu kolonel</td>\n",
       "      <td>1.0</td>\n",
       "      <td>23000</td>\n",
       "      <td>23000</td>\n",
       "    </tr>\n",
       "    <tr>\n",
       "      <th>4</th>\n",
       "      <td>ID0002</td>\n",
       "      <td>s-ovaltine</td>\n",
       "      <td>1.0</td>\n",
       "      <td>20000</td>\n",
       "      <td>20000</td>\n",
       "    </tr>\n",
       "    <tr>\n",
       "      <th>5</th>\n",
       "      <td>ID0003</td>\n",
       "      <td>m-carame 1 black tea</td>\n",
       "      <td>1.0</td>\n",
       "      <td>28000</td>\n",
       "      <td>28000</td>\n",
       "    </tr>\n",
       "    <tr>\n",
       "      <th>6</th>\n",
       "      <td>ID0004</td>\n",
       "      <td>bbq chicken</td>\n",
       "      <td>1.0</td>\n",
       "      <td>41000</td>\n",
       "      <td>41000</td>\n",
       "    </tr>\n",
       "    <tr>\n",
       "      <th>7</th>\n",
       "      <td>ID0005</td>\n",
       "      <td>le mineral</td>\n",
       "      <td>1.0</td>\n",
       "      <td>8000</td>\n",
       "      <td>8000</td>\n",
       "    </tr>\n",
       "    <tr>\n",
       "      <th>8</th>\n",
       "      <td>ID0006</td>\n",
       "      <td>potato sausage bread</td>\n",
       "      <td>1.0</td>\n",
       "      <td>19000</td>\n",
       "      <td>123000</td>\n",
       "    </tr>\n",
       "    <tr>\n",
       "      <th>9</th>\n",
       "      <td>ID0006</td>\n",
       "      <td>oreo green tea spread</td>\n",
       "      <td>1.0</td>\n",
       "      <td>52000</td>\n",
       "      <td>123000</td>\n",
       "    </tr>\n",
       "    <tr>\n",
       "      <th>10</th>\n",
       "      <td>ID0006</td>\n",
       "      <td>white choco banana spread</td>\n",
       "      <td>1.0</td>\n",
       "      <td>52000</td>\n",
       "      <td>123000</td>\n",
       "    </tr>\n",
       "    <tr>\n",
       "      <th>11</th>\n",
       "      <td>ID0007</td>\n",
       "      <td>choco devil</td>\n",
       "      <td>4.0</td>\n",
       "      <td>63636</td>\n",
       "      <td>59500</td>\n",
       "    </tr>\n",
       "    <tr>\n",
       "      <th>12</th>\n",
       "      <td>ID0007</td>\n",
       "      <td>cp 360 club card</td>\n",
       "      <td>1.0</td>\n",
       "      <td>-9545</td>\n",
       "      <td>59500</td>\n",
       "    </tr>\n",
       "    <tr>\n",
       "      <th>13</th>\n",
       "      <td>ID0008</td>\n",
       "      <td>talam ungu</td>\n",
       "      <td>3.0</td>\n",
       "      <td>19500</td>\n",
       "      <td>11700</td>\n",
       "    </tr>\n",
       "    <tr>\n",
       "      <th>14</th>\n",
       "      <td>ID0008</td>\n",
       "      <td>mika kecil</td>\n",
       "      <td>1.0</td>\n",
       "      <td>0</td>\n",
       "      <td>11700</td>\n",
       "    </tr>\n",
       "    <tr>\n",
       "      <th>15</th>\n",
       "      <td>ID0009</td>\n",
       "      <td>tahu ikan oma giok</td>\n",
       "      <td>1.0</td>\n",
       "      <td>20000</td>\n",
       "      <td>20000</td>\n",
       "    </tr>\n",
       "    <tr>\n",
       "      <th>16</th>\n",
       "      <td>ID0010</td>\n",
       "      <td>serbu</td>\n",
       "      <td>2.0</td>\n",
       "      <td>40000</td>\n",
       "      <td>60000</td>\n",
       "    </tr>\n",
       "    <tr>\n",
       "      <th>17</th>\n",
       "      <td>ID0010</td>\n",
       "      <td>choco peanut bread</td>\n",
       "      <td>2.0</td>\n",
       "      <td>20000</td>\n",
       "      <td>60000</td>\n",
       "    </tr>\n",
       "    <tr>\n",
       "      <th>18</th>\n",
       "      <td>ID0011</td>\n",
       "      <td>se'i sapi sambal matah ( r )</td>\n",
       "      <td>1.0</td>\n",
       "      <td>20000</td>\n",
       "      <td>89100</td>\n",
       "    </tr>\n",
       "    <tr>\n",
       "      <th>19</th>\n",
       "      <td>ID0011</td>\n",
       "      <td>se'i s-pi lada hitam (j)</td>\n",
       "      <td>1.0</td>\n",
       "      <td>35000</td>\n",
       "      <td>89100</td>\n",
       "    </tr>\n",
       "    <tr>\n",
       "      <th>20</th>\n",
       "      <td>ID0011</td>\n",
       "      <td>nasi putih</td>\n",
       "      <td>2.0</td>\n",
       "      <td>10000</td>\n",
       "      <td>89100</td>\n",
       "    </tr>\n",
       "    <tr>\n",
       "      <th>21</th>\n",
       "      <td>ID0011</td>\n",
       "      <td>milk shake coklat</td>\n",
       "      <td>1.0</td>\n",
       "      <td>16000</td>\n",
       "      <td>89100</td>\n",
       "    </tr>\n",
       "    <tr>\n",
       "      <th>22</th>\n",
       "      <td>ID0012</td>\n",
       "      <td>es kopi susu</td>\n",
       "      <td>4.0</td>\n",
       "      <td>72000</td>\n",
       "      <td>72000</td>\n",
       "    </tr>\n",
       "    <tr>\n",
       "      <th>23</th>\n",
       "      <td>ID0013</td>\n",
       "      <td>mineral 600 ml</td>\n",
       "      <td>1.0</td>\n",
       "      <td>7727</td>\n",
       "      <td>45500</td>\n",
       "    </tr>\n",
       "    <tr>\n",
       "      <th>24</th>\n",
       "      <td>ID0013</td>\n",
       "      <td>bulgogi rice r</td>\n",
       "      <td>1.0</td>\n",
       "      <td>33636</td>\n",
       "      <td>45500</td>\n",
       "    </tr>\n",
       "    <tr>\n",
       "      <th>25</th>\n",
       "      <td>ID0014</td>\n",
       "      <td>arem arem</td>\n",
       "      <td>2.0</td>\n",
       "      <td>24000</td>\n",
       "      <td>39600</td>\n",
       "    </tr>\n",
       "    <tr>\n",
       "      <th>26</th>\n",
       "      <td>ID0014</td>\n",
       "      <td>kroket</td>\n",
       "      <td>1.0</td>\n",
       "      <td>12000</td>\n",
       "      <td>39600</td>\n",
       "    </tr>\n",
       "    <tr>\n",
       "      <th>27</th>\n",
       "      <td>ID0015</td>\n",
       "      <td>arem arem</td>\n",
       "      <td>2.0</td>\n",
       "      <td>24000</td>\n",
       "      <td>59400</td>\n",
       "    </tr>\n",
       "    <tr>\n",
       "      <th>28</th>\n",
       "      <td>ID0015</td>\n",
       "      <td>pepenero pastel</td>\n",
       "      <td>2.0</td>\n",
       "      <td>30000</td>\n",
       "      <td>59400</td>\n",
       "    </tr>\n",
       "    <tr>\n",
       "      <th>29</th>\n",
       "      <td>ID0016</td>\n",
       "      <td>tt</td>\n",
       "      <td>1.0</td>\n",
       "      <td>20000</td>\n",
       "      <td>20000</td>\n",
       "    </tr>\n",
       "    <tr>\n",
       "      <th>30</th>\n",
       "      <td>ID0017</td>\n",
       "      <td>lemonade 16oz</td>\n",
       "      <td>1.0</td>\n",
       "      <td>20000</td>\n",
       "      <td>20000</td>\n",
       "    </tr>\n",
       "    <tr>\n",
       "      <th>31</th>\n",
       "      <td>ID0018</td>\n",
       "      <td>beef c roll 3pcs</td>\n",
       "      <td>1.0</td>\n",
       "      <td>10000</td>\n",
       "      <td>25000</td>\n",
       "    </tr>\n",
       "    <tr>\n",
       "      <th>32</th>\n",
       "      <td>ID0018</td>\n",
       "      <td>kaya bred</td>\n",
       "      <td>1.0</td>\n",
       "      <td>15000</td>\n",
       "      <td>25000</td>\n",
       "    </tr>\n",
       "    <tr>\n",
       "      <th>33</th>\n",
       "      <td>ID0019</td>\n",
       "      <td>futami 17 green tea (clas</td>\n",
       "      <td>1.0</td>\n",
       "      <td>12500</td>\n",
       "      <td>42500</td>\n",
       "    </tr>\n",
       "    <tr>\n",
       "      <th>34</th>\n",
       "      <td>ID0019</td>\n",
       "      <td>egg tart</td>\n",
       "      <td>1.0</td>\n",
       "      <td>13000</td>\n",
       "      <td>42500</td>\n",
       "    </tr>\n",
       "    <tr>\n",
       "      <th>35</th>\n",
       "      <td>ID0019</td>\n",
       "      <td>grain croque monsieur</td>\n",
       "      <td>1.0</td>\n",
       "      <td>17000</td>\n",
       "      <td>42500</td>\n",
       "    </tr>\n",
       "  </tbody>\n",
       "</table>\n",
       "</div>"
      ],
      "text/plain": [
       "   receipt_id                     item_name  count  price  total_price\n",
       "0      ID0000                  real ganache    1.0  16500        45500\n",
       "1      ID0000                      egg tart    1.0  13000        45500\n",
       "2      ID0000                   pizza toast    1.0  16000        45500\n",
       "3      ID0001             kopi susu kolonel    1.0  23000        23000\n",
       "4      ID0002                    s-ovaltine    1.0  20000        20000\n",
       "5      ID0003          m-carame 1 black tea    1.0  28000        28000\n",
       "6      ID0004                   bbq chicken    1.0  41000        41000\n",
       "7      ID0005                    le mineral    1.0   8000         8000\n",
       "8      ID0006          potato sausage bread    1.0  19000       123000\n",
       "9      ID0006         oreo green tea spread    1.0  52000       123000\n",
       "10     ID0006     white choco banana spread    1.0  52000       123000\n",
       "11     ID0007                   choco devil    4.0  63636        59500\n",
       "12     ID0007              cp 360 club card    1.0  -9545        59500\n",
       "13     ID0008                    talam ungu    3.0  19500        11700\n",
       "14     ID0008                    mika kecil    1.0      0        11700\n",
       "15     ID0009            tahu ikan oma giok    1.0  20000        20000\n",
       "16     ID0010                         serbu    2.0  40000        60000\n",
       "17     ID0010            choco peanut bread    2.0  20000        60000\n",
       "18     ID0011  se'i sapi sambal matah ( r )    1.0  20000        89100\n",
       "19     ID0011      se'i s-pi lada hitam (j)    1.0  35000        89100\n",
       "20     ID0011                    nasi putih    2.0  10000        89100\n",
       "21     ID0011             milk shake coklat    1.0  16000        89100\n",
       "22     ID0012                  es kopi susu    4.0  72000        72000\n",
       "23     ID0013                mineral 600 ml    1.0   7727        45500\n",
       "24     ID0013                bulgogi rice r    1.0  33636        45500\n",
       "25     ID0014                     arem arem    2.0  24000        39600\n",
       "26     ID0014                        kroket    1.0  12000        39600\n",
       "27     ID0015                     arem arem    2.0  24000        59400\n",
       "28     ID0015               pepenero pastel    2.0  30000        59400\n",
       "29     ID0016                            tt    1.0  20000        20000\n",
       "30     ID0017                 lemonade 16oz    1.0  20000        20000\n",
       "31     ID0018              beef c roll 3pcs    1.0  10000        25000\n",
       "32     ID0018                     kaya bred    1.0  15000        25000\n",
       "33     ID0019     futami 17 green tea (clas    1.0  12500        42500\n",
       "34     ID0019                      egg tart    1.0  13000        42500\n",
       "35     ID0019         grain croque monsieur    1.0  17000        42500"
      ]
     },
     "execution_count": 49,
     "metadata": {},
     "output_type": "execute_result"
    }
   ],
   "source": [
    "receipts = pd.read_csv('data_input/receipt_cleaned.csv')\n",
    "receipts"
   ]
  },
  {
   "cell_type": "markdown",
   "metadata": {},
   "source": [
    "**Deskripsi Data:**\n",
    "\n",
    "Data `receipt_cleaned.csv` merupakan data transaksi atau struk pembelian dari suatu tempat seperti kafe atau restoran. Berikut adalah deskripsi untuk setiap kolom dalam data:\n",
    "\n",
    "- `receipt_id`: Nomor identifikasi unik untuk setiap struk pembelian.\n",
    "- `item_name`: Nama produk atau item yang dibeli.\n",
    "- `count`: Jumlah unit dari suatu produk yang dibeli.\n",
    "- `price`: Harga per unit dari suatu produk.\n",
    "- `total_price`: Total harga untuk suatu produk (jumlah unit dikalikan dengan harga per unit)."
   ]
  },
  {
   "cell_type": "markdown",
   "metadata": {},
   "source": [
    "Lakukan pengamatan 5 data teratas dari `receipts` menggunakan `.head()`"
   ]
  },
  {
   "cell_type": "code",
   "execution_count": 50,
   "metadata": {},
   "outputs": [
    {
     "data": {
      "text/html": [
       "<div>\n",
       "<style scoped>\n",
       "    .dataframe tbody tr th:only-of-type {\n",
       "        vertical-align: middle;\n",
       "    }\n",
       "\n",
       "    .dataframe tbody tr th {\n",
       "        vertical-align: top;\n",
       "    }\n",
       "\n",
       "    .dataframe thead th {\n",
       "        text-align: right;\n",
       "    }\n",
       "</style>\n",
       "<table border=\"1\" class=\"dataframe\">\n",
       "  <thead>\n",
       "    <tr style=\"text-align: right;\">\n",
       "      <th></th>\n",
       "      <th>receipt_id</th>\n",
       "      <th>item_name</th>\n",
       "      <th>count</th>\n",
       "      <th>price</th>\n",
       "      <th>total_price</th>\n",
       "    </tr>\n",
       "  </thead>\n",
       "  <tbody>\n",
       "    <tr>\n",
       "      <th>0</th>\n",
       "      <td>ID0000</td>\n",
       "      <td>real ganache</td>\n",
       "      <td>1.0</td>\n",
       "      <td>16500</td>\n",
       "      <td>45500</td>\n",
       "    </tr>\n",
       "    <tr>\n",
       "      <th>1</th>\n",
       "      <td>ID0000</td>\n",
       "      <td>egg tart</td>\n",
       "      <td>1.0</td>\n",
       "      <td>13000</td>\n",
       "      <td>45500</td>\n",
       "    </tr>\n",
       "    <tr>\n",
       "      <th>2</th>\n",
       "      <td>ID0000</td>\n",
       "      <td>pizza toast</td>\n",
       "      <td>1.0</td>\n",
       "      <td>16000</td>\n",
       "      <td>45500</td>\n",
       "    </tr>\n",
       "    <tr>\n",
       "      <th>3</th>\n",
       "      <td>ID0001</td>\n",
       "      <td>kopi susu kolonel</td>\n",
       "      <td>1.0</td>\n",
       "      <td>23000</td>\n",
       "      <td>23000</td>\n",
       "    </tr>\n",
       "    <tr>\n",
       "      <th>4</th>\n",
       "      <td>ID0002</td>\n",
       "      <td>s-ovaltine</td>\n",
       "      <td>1.0</td>\n",
       "      <td>20000</td>\n",
       "      <td>20000</td>\n",
       "    </tr>\n",
       "  </tbody>\n",
       "</table>\n",
       "</div>"
      ],
      "text/plain": [
       "  receipt_id          item_name  count  price  total_price\n",
       "0     ID0000       real ganache    1.0  16500        45500\n",
       "1     ID0000           egg tart    1.0  13000        45500\n",
       "2     ID0000        pizza toast    1.0  16000        45500\n",
       "3     ID0001  kopi susu kolonel    1.0  23000        23000\n",
       "4     ID0002         s-ovaltine    1.0  20000        20000"
      ]
     },
     "execution_count": 50,
     "metadata": {},
     "output_type": "execute_result"
    }
   ],
   "source": [
    "# code here\n",
    "receipts.head()"
   ]
  },
  {
   "cell_type": "markdown",
   "metadata": {},
   "source": [
    "### `pandas` Data Types\n",
    "\n",
    "- Dataframe merupakan tabel/data tabular dua dimensi yaitu baris dan kolom.\n",
    "- Dataframe terdiri dari beberapa **Series** (kolom).\n",
    "- Dalam satu series harus memiliki tipe data yang sama.\n",
    "- `pandas` akan menentukan tipe data dari masing-masing Series, tapi hasil dari pandas tidak selalu benar."
   ]
  },
  {
   "cell_type": "markdown",
   "metadata": {},
   "source": [
    "Berikut rangkuman tipe data `pandas`:\n",
    "\n",
    "**💡 Notes: Fokus pada kolom `Pandas dtype` dan `Usage`**\n",
    "\n",
    "| Pandas dtype  | Python type  | Usage                                        |\n",
    "|---------------|--------------|----------------------------------------------|\n",
    "| object, str   | str          | Text or mixed numeric and non-numeric values |\n",
    "| int64         | int          | Integer numbers                              |\n",
    "| float64       | float        | Floating point numbers                       |\n",
    "| bool          | bool         | True/False values                            |\n",
    "| datetime64[ns]| -            | Date and time values                         |\n",
    "| timedelta[ns] | -            |  Differences between two datetimes           |\n",
    "| category      | -            | Finite list of text values                   |\n",
    "\n",
    "Referensi: [Overview of Pandas Data Types](https://pbpython.com/pandas_dtypes.html)"
   ]
  },
  {
   "cell_type": "markdown",
   "metadata": {},
   "source": [
    "**Tipe data Pandas:**\n",
    "\n",
    "- `int64`: Integer (bilangan bulat, tanpa koma)\n",
    "- `float64`: Bilangan desimal (berkoma)\n",
    "- `object`: Text (string)\n",
    "- `category`: Kategorikal \n",
    "- `datetime64[ns]`: Data waktu\n",
    "\n",
    "Karakteristik tipe data `category` :\n",
    "- Dapat dikelompokkan menjadi beberapa kelompok (category)\n",
    "- Nilainya berulang"
   ]
  },
  {
   "cell_type": "markdown",
   "metadata": {},
   "source": [
    "Saat kita membaca data dengan `pd.read_csv()`, `pandas` akan mencoba menentukan tipe data dari setiap kolom. Lakukan investigasi awal untuk melihat struktur data terhadap object DataFrame dengan menggunakan method `.info()`."
   ]
  },
  {
   "cell_type": "code",
   "execution_count": 51,
   "metadata": {},
   "outputs": [
    {
     "name": "stdout",
     "output_type": "stream",
     "text": [
      "<class 'pandas.core.frame.DataFrame'>\n",
      "RangeIndex: 36 entries, 0 to 35\n",
      "Data columns (total 5 columns):\n",
      " #   Column       Non-Null Count  Dtype  \n",
      "---  ------       --------------  -----  \n",
      " 0   receipt_id   36 non-null     object \n",
      " 1   item_name    36 non-null     object \n",
      " 2   count        36 non-null     float64\n",
      " 3   price        36 non-null     int64  \n",
      " 4   total_price  36 non-null     int64  \n",
      "dtypes: float64(1), int64(2), object(2)\n",
      "memory usage: 1.5+ KB\n"
     ]
    }
   ],
   "source": [
    "# cek tipe data\n",
    "receipts.info()"
   ]
  },
  {
   "cell_type": "markdown",
   "metadata": {},
   "source": [
    "**💡 NOTES**\n",
    "\n",
    "Dengan menggunakan method `.info()`, kita dapat memeriksa **informasi** lengkap dari DataFrame kita:\n",
    "\n",
    "- Dimensi data: jumlah baris dan kolom (`.shape`)\n",
    "- Nama kolom (`.columns`)\n",
    "- Tipe data setiap kolom (`.dtypes`)\n",
    "- Penggunaan memori"
   ]
  },
  {
   "cell_type": "markdown",
   "metadata": {},
   "source": [
    "**Kolom manakah yang memiliki format tipe data yang belum sesuai?**\n",
    "\n",
    "> Jawaban: `item_name` -> category"
   ]
  },
  {
   "cell_type": "markdown",
   "metadata": {},
   "source": [
    "Untuk mengubah tipe data pada `pandas`, dapat menggunakan method `astype()`.\n",
    "\n",
    "**Syntax**\n",
    "```python\n",
    "df['column_name'] = df['column_name'].astype('new_data_types')\n",
    "```"
   ]
  },
  {
   "cell_type": "code",
   "execution_count": 56,
   "metadata": {},
   "outputs": [
    {
     "data": {
      "text/plain": [
       "34"
      ]
     },
     "execution_count": 56,
     "metadata": {},
     "output_type": "execute_result"
    }
   ],
   "source": [
    "receipts['item_name'].nunique()"
   ]
  },
  {
   "cell_type": "code",
   "execution_count": 52,
   "metadata": {},
   "outputs": [
    {
     "data": {
      "text/plain": [
       "0                     real ganache\n",
       "1                         egg tart\n",
       "2                      pizza toast\n",
       "3                kopi susu kolonel\n",
       "4                       s-ovaltine\n",
       "5             m-carame 1 black tea\n",
       "6                      bbq chicken\n",
       "7                       le mineral\n",
       "8             potato sausage bread\n",
       "9            oreo green tea spread\n",
       "10       white choco banana spread\n",
       "11                     choco devil\n",
       "12                cp 360 club card\n",
       "13                      talam ungu\n",
       "14                      mika kecil\n",
       "15              tahu ikan oma giok\n",
       "16                           serbu\n",
       "17              choco peanut bread\n",
       "18    se'i sapi sambal matah ( r )\n",
       "19        se'i s-pi lada hitam (j)\n",
       "20                      nasi putih\n",
       "21               milk shake coklat\n",
       "22                    es kopi susu\n",
       "23                  mineral 600 ml\n",
       "24                  bulgogi rice r\n",
       "25                       arem arem\n",
       "26                          kroket\n",
       "27                       arem arem\n",
       "28                 pepenero pastel\n",
       "29                              tt\n",
       "30                   lemonade 16oz\n",
       "31                beef c roll 3pcs\n",
       "32                       kaya bred\n",
       "33       futami 17 green tea (clas\n",
       "34                        egg tart\n",
       "35           grain croque monsieur\n",
       "Name: item_name, dtype: category\n",
       "Categories (34, object): ['arem arem', 'bbq chicken', 'beef c roll 3pcs', 'bulgogi rice r', ..., 'tahu ikan oma giok', 'talam ungu', 'tt', 'white choco banana spread']"
      ]
     },
     "execution_count": 52,
     "metadata": {},
     "output_type": "execute_result"
    }
   ],
   "source": [
    "# change & check data type\n",
    "receipts['item_name'].astype('category')"
   ]
  },
  {
   "cell_type": "markdown",
   "metadata": {},
   "source": [
    "#### Additional: Object & Categorical Variables\n",
    "\n",
    "**Karakteristik tipe data `object`**:\n",
    "- Mirip seperti tipe data string pada python\n",
    "- Kemunculannya unik (artinya setiap row kemunculannya hanya 1 atau beberapa)\n",
    "Contoh: ID, NIK, No.HP\n",
    "\n",
    "**Karakteristik tipe data `category`:**\n",
    "- Dapat dikelompokkan menjadi beberapa kelompok (category)\n",
    "- Kemunculannya berulang\n",
    "Contoh: Gender, Nama Barang dalam data transaksi, provinsi, jenis kartu kredit, kategori barang: elektronik dan non elektronik\n",
    "\n",
    "---\n",
    "\n",
    "Dua alasan mengapa kita perlu menggunakan tipe data categorical:\n",
    "\n",
    "1. **Business Side**: memudahkan Analyst untuk memilih metode statistik atau tipe plot mana yang digunakan untuk mengolah data.\n",
    "2. **Technical Side**: menghemat memori dan menambah kecepatan komputasional\n",
    "\n",
    "---\n",
    "\n",
    "💡 Kita bisa menggunakan method berikut untuk **mengidentifikasi kolom mana yang cocok untuk disimpan ke tipe data `category`**\n",
    "\n",
    "- `.unique()` untuk melihat nilai unik di setiap Series/kolom\n",
    "- `.nunique()` untuk melihat jumlah nilai unik/distict pada Series/Dataframe\n",
    "\n",
    "Berikut contoh syntax untuk mengecek nilai unik pada sebuah Series\n",
    "> `df['nama_kolom'].unique()`"
   ]
  },
  {
   "cell_type": "markdown",
   "metadata": {},
   "source": [
    "___\n",
    "\n",
    "--- START OF DAY 2 ---"
   ]
  },
  {
   "cell_type": "markdown",
   "metadata": {},
   "source": [
    "## Master Data Manipulation & Pre-processing\n",
    "\n",
    "Dalam analisis data, manipulasi dan wrangling data adalah langkah awal kritis yang menentukan keberhasilan analisis. Manipulasi data memungkinkan pengaturan dan filtering data menjadi format yang siap analisis, sementara wrangling data memastikan kebersihan dan keakuratan data. Kedua proses ini fundamental dalam mengubah data mentah menjadi wawasan yang berharga dan dapat diandalkan."
   ]
  },
  {
   "cell_type": "markdown",
   "metadata": {},
   "source": [
    "### Dive Deeper into String Data Types\n",
    "\n",
    " ✨ Dalam proses pembersihan data, terutama pada kolom dengan tipe data string yang berasal dari object dalam DataFrame `Pandas`, operasi seperti `lower(), upper()`, dan `replace()` sering digunakan untuk menyederhanakan atau menstandarisasi teks. "
   ]
  },
  {
   "cell_type": "markdown",
   "metadata": {},
   "source": [
    "🔻 `.str.lower()`: digunakan untuk mengubah semua karakter menjadi huruf kecil"
   ]
  },
  {
   "cell_type": "code",
   "execution_count": null,
   "metadata": {},
   "outputs": [],
   "source": [
    "# mengubah semua teks dalam kolom 'item_name' menjadi huruf kecil\n",
    "receipts['item_name'].str.lower()[5]\n"
   ]
  },
  {
   "cell_type": "markdown",
   "metadata": {},
   "source": [
    "🔻 `upper()`: digunakan untuk mengubah semua karakter menjadi huruf kapital"
   ]
  },
  {
   "cell_type": "code",
   "execution_count": null,
   "metadata": {},
   "outputs": [],
   "source": [
    "# mengubah semua teks dalam kolom 'receipt_id' menjadi huruf besar\n"
   ]
  },
  {
   "cell_type": "markdown",
   "metadata": {},
   "source": [
    "🔻 `replace()`:  digunakan untuk mengganti karakter tertentu dari sebuah string"
   ]
  },
  {
   "cell_type": "code",
   "execution_count": null,
   "metadata": {},
   "outputs": [],
   "source": [
    "# mengganti '-' dengan ' ' (spasi) dalam kolom 'item_name'\n"
   ]
  },
  {
   "cell_type": "markdown",
   "metadata": {},
   "source": [
    "### Contingency Tables / Frequency Tables\n",
    "\n",
    "Untuk menghitung contigency tables, kita dapat menggunakan method `.value_counts()`. \n",
    "**Kegunaan**: Menghitung banyak baris pada setiap category dalam 1 kolom, dan defaultnya diurutkan secara descending\n",
    "\n",
    "Parameter:\n",
    "- `ascending=True`: **urutkan nilai** dalam urutan menaik"
   ]
  },
  {
   "cell_type": "markdown",
   "metadata": {},
   "source": [
    "🔻 Mari kita melihat jumlah item setiap receipt yang ada"
   ]
  },
  {
   "cell_type": "code",
   "execution_count": null,
   "metadata": {},
   "outputs": [],
   "source": [
    "# code here\n"
   ]
  },
  {
   "cell_type": "markdown",
   "metadata": {},
   "source": [
    "❓ Mari kita lihat barang apa yang sering dibeli?"
   ]
  },
  {
   "cell_type": "code",
   "execution_count": null,
   "metadata": {},
   "outputs": [],
   "source": [
    "# code here\n"
   ]
  },
  {
   "cell_type": "markdown",
   "metadata": {},
   "source": [
    "## Perform Conditional Subsetting Operations\n",
    "\n",
    "Conditional subsetting bermaksud untuk mengambil sebagian data dari DataFrame berdasarkan suatu kondisi tertentu, seperti:\n",
    "- Pengiriman yang terjadi pada bulan Januari\n",
    "- Pengiriman dengan jarak lebih dari 10km\n",
    "- Pengiriman yang memiliki biaya `add_cost`, atau `add_cost != 0`\n",
    "\n",
    "Syntax penulisan untuk conditional subsetting adalah:\n",
    "\n",
    "**`df[df['column_name'] <comparison_operator> <value>]`**\n",
    "\n",
    "atau\n",
    "\n",
    "**`df[df.column_name <comparison_operator> <value>]`**\n",
    "\n",
    "Contoh comparison_operator adalah seperti `==`, `!=`, `>`, `>=`, `<`, `<=`."
   ]
  },
  {
   "cell_type": "markdown",
   "metadata": {},
   "source": [
    "Menampilkan data yang terjadi pada hari Senin\n",
    "\n",
    "`receipts[receipts['item_name'] == 'arem arem']`\n",
    "\n",
    "kondisi -> `receipts['item_name'] == 'arem arem'`"
   ]
  },
  {
   "cell_type": "code",
   "execution_count": null,
   "metadata": {},
   "outputs": [],
   "source": [
    "receipts[receipts['item_name'] == 'arem arem']"
   ]
  },
  {
   "cell_type": "markdown",
   "metadata": {},
   "source": [
    "❓ Menampilkan data pembelian yang memiliki `receipt_id` ID0015"
   ]
  },
  {
   "cell_type": "code",
   "execution_count": null,
   "metadata": {},
   "outputs": [],
   "source": [
    "# code here\n"
   ]
  },
  {
   "cell_type": "markdown",
   "metadata": {},
   "source": [
    "❓ Menampilkan data pembelian yang memiliki total pengeluaran lebih dari > Rp 50.000"
   ]
  },
  {
   "cell_type": "code",
   "execution_count": null,
   "metadata": {},
   "outputs": [],
   "source": [
    "# code here\n",
    "receipt_above50k = ..."
   ]
  },
  {
   "cell_type": "code",
   "execution_count": null,
   "metadata": {},
   "outputs": [],
   "source": [
    "# optional: mengambil yang unique saja\n",
    "receipt_above50k['receipt_id'].unique()"
   ]
  },
  {
   "cell_type": "markdown",
   "metadata": {},
   "source": [
    "___\n",
    "# Document Understanding Transformer (DUT) Utilization"
   ]
  },
  {
   "cell_type": "markdown",
   "metadata": {},
   "source": [
    "Dalam bisnis, kebutuhan untuk mengubah gambar menjadi teks sering muncul, yang awalnya diatasi dengan teknologi OCR (Optical Character Recognition). \n",
    "\n",
    "Namun, OCR memiliki beberapa kelemahan, yaitu:\n",
    "1. Memerlukan langkah-langkah preprocessing yang cukup dalam sebelum diterapkan pada OCR\n",
    "\n",
    "<img src=\"assets/ocr-preprocess.png\" width=850></img>\n",
    "\n",
    "2. Beberapa sistem OCR terbatas dalam mengenali berbagai bahasa atau karakter khusus.\n",
    "\n",
    "\n",
    "Seiring berkembangnya riset, muncul model **OCR-free Document Understanding Transformer (Donut)** yang mengintegrasikan arsitektur Transformer tanpa bergantung pada OCR, memungkinkan ekstraksi teks dari gambar dengan lebih akurat dan tanpa batasan bahasa."
   ]
  },
  {
   "cell_type": "markdown",
   "metadata": {},
   "source": [
    "\n",
    "## Introduction to 🍩 Donut Model \n",
    "\n",
    "### What is 🍩 Donut Model?\n",
    "Donut adalah model berbasis Transformer yang dirancang untuk tugas pemahaman dokumen yang tidak menggunakan OCR (Optical Character Recognition), menggunakan teknik mengekstrak informasi bermakna dari gambar dokumen yang tidak terstruktur.\n",
    "\n",
    "Proses mengubah dokumen gambar menjadi output text/JSON yang dilakukan oleh model Donut melalui beberapa langkah:\n",
    "\n",
    "<img src=\"assets/general-flow-donut.png\"></img>\n",
    "\n",
    "<div class=\"alert alert-info\">\n",
    "💡Dalam model Donut, <b>Swin Transformer digunakan untuk ekstraksi fitur dari gambar dokumen secara efektif</b>. Swin Transformer adalah pengembangan Transformer untuk kasus visual/gambar yang mampu menandingi CNN. Kemampuannya untuk memproses informasi secara hierarkis dan memahami konteks global memungkinkan model Donut mengenali dan memahami teks dan layout dokumen dengan lebih akurat, tanpa bergantung pada OCR. \n",
    "</div>\n",
    "\n",
    "Ini meningkatkan efisiensi dan akurasi dalam pengolahan dokumen, terutama untuk dokumen dengan layout kompleks."
   ]
  },
  {
   "cell_type": "markdown",
   "metadata": {},
   "source": [
    "<div class=\"alert alert-gray\">\n",
    "<b>🤖 Introduction to Transformer Deep Learning NLP: Backbone of GPT</b>\n",
    " \n",
    "Transformer adalah sebuah arsitektur neural network yang diperkenalkan pada tahun 2017 dalam makalah berjudul <b>\"Attention Is All You Need\"</b> oleh Ashish Vaswani dan tim peneliti dari Google AI. \n",
    "\n",
    "Arsitektur Transformer adalah terobosan besar dalam bidang natural language processing (NLP) dan telah mengubah cara kita mendekati tugas-tugas seperti machine translation, NLP, dan banyak aplikasi lain yang melibatkan pemrosesan sequential data. Contoh model Transformer seperti BERT, GPT (Generative Pre-trained Transformer), dan T5 (Text-to-Text Transfer Transformer)\n",
    "\n",
    "✨ <b>State-of-The-Art Transformer:</b> ✨\n",
    "- Mampu memahami konteks dari data sequential (misal mengetahui makna dari suatu kalimat) dengan konsep \"Attention\"\n",
    "- Mampu bekerja secara pararel. \n",
    "- Memperhatikan urutan dari data menggunakan Positional Encoding.\n",
    "- Skalabilitas tinggi\n",
    "- Dapat digunakan dalam berbagai konteks, termasuk pemrosesan gambar, suara, dan natural language.\n",
    "\n",
    "</div>"
   ]
  },
  {
   "cell_type": "markdown",
   "metadata": {},
   "source": [
    "\n",
    "### Why Use 🍩 Donut Model?\n",
    "Model Donut lebih efektif daripada OCR tradisional dalam mengenali teks dari gambar dokumen, terutama yang memiliki layout kompleks atau kualitas gambar yang rendah. Donut dapat memahami konteks dan layout dokumen secara lebih akurat dan cepat.\n",
    "\n",
    "Selain document information extraction, Donut Model dapat melakukan berbagai tugas pemrosesan dokumen lainnya, termasuk:\n",
    "- **Klasifikasi Dokumen**: Mengkategorikan dokumen ke dalam berbagai jenis atau kelas berdasarkan isi dan strukturnya.\n",
    "- **QnA**: Menganalisis dan menjawab pertanyaan yang berkaitan dengan konten dalam dokumen."
   ]
  },
  {
   "cell_type": "markdown",
   "metadata": {},
   "source": [
    "💡 Tak hanya itu, **fakta menarik dari model Donut adalah** bahwa model ini dilatih menggunakan teks dalam berbagai bahasa dengan memanfaatkan SynthDoG. **SynthDoG** adalah sebuah generator dokumen sintetis yang membantu pelatihan model Donut untuk fleksibel dalam berbagai bahasa dan domain. \n",
    "\n",
    "<img src='assets/sample_synthdog.png' width=800></img>\n",
    "\n",
    "Dengan menggunakan SynthDoG, **Donut tidak hanya efektif dalam memahami dokumen dalam bahasa Inggris, tetapi juga dalam bahasa lain, memberikan kemampuan pemahaman dokumen yang lebih luas dan serbaguna**."
   ]
  },
  {
   "cell_type": "markdown",
   "metadata": {},
   "source": [
    "\n",
    "### How to Use 🍩 Donut Model for Document Information Extraction?\n",
    "Model Donut bisa digunakan dalam Python dengan syarat kita telah melakukan instalasi yang diperlukan dan melakukan impor library yang diperlukan."
   ]
  },
  {
   "cell_type": "code",
   "execution_count": null,
   "metadata": {},
   "outputs": [],
   "source": [
    "import re\n",
    "import os\n",
    "import torch\n",
    "\n",
    "from PIL import Image\n",
    "from transformers import DonutProcessor, VisionEncoderDecoderModel"
   ]
  },
  {
   "cell_type": "markdown",
   "metadata": {},
   "source": [
    "💡 Notes:\n",
    "- `DonutProcessor` adalah kelas yang digunakan untuk memproses input untuk model Donut.\n",
    "- `VisionEncoderDecoderModel` adalah kelas yang mengimplementasikan arsitektur model Vision Encoder-Decoder, yang dapat digunakan untuk tugas pengolahan citra dan natural language processing."
   ]
  },
  {
   "cell_type": "markdown",
   "metadata": {},
   "source": [
    "🔻Mari kita load model donut (`\"naver-clova-ix/donut-base-finetuned-cord-v2\"`) yang akan kita gunakan\n",
    "\n",
    "_⚠️ It will take longer if it's your first time loading it._"
   ]
  },
  {
   "cell_type": "code",
   "execution_count": null,
   "metadata": {},
   "outputs": [],
   "source": [
    "# processor = ...\n",
    "# model = ..."
   ]
  },
  {
   "cell_type": "code",
   "execution_count": null,
   "metadata": {},
   "outputs": [],
   "source": [
    "# set model device\n",
    "device = \"cuda\" if torch.cuda.is_available() else \"cpu\"\n",
    "model.to(device)"
   ]
  },
  {
   "cell_type": "markdown",
   "metadata": {},
   "source": [
    "## Document Information Extraction Using Donut"
   ]
  },
  {
   "cell_type": "markdown",
   "metadata": {},
   "source": [
    "<img src=\"assets/general-flow-donut.png\"></img>"
   ]
  },
  {
   "cell_type": "markdown",
   "metadata": {},
   "source": [
    "Tentu, untuk melakukan ekstraksi informasi dari dokumen, langkah pertama yang perlu dilakukan adalah menyiapkan gambar-gambar dokumen yang akan dibaca. Oleh karena itu, kita akan mencoba membaca beberapa file invoice yang terdapat pada folder `data_input`."
   ]
  },
  {
   "cell_type": "markdown",
   "metadata": {},
   "source": [
    "### 1️⃣ Read Document Images"
   ]
  },
  {
   "cell_type": "markdown",
   "metadata": {},
   "source": [
    "1. Persiapkan dimana letak peletakan file-file gambar dokumennya."
   ]
  },
  {
   "cell_type": "code",
   "execution_count": 1,
   "metadata": {},
   "outputs": [],
   "source": [
    "# folder path\n",
    "dir_path = 'data_input/valid/'"
   ]
  },
  {
   "cell_type": "markdown",
   "metadata": {},
   "source": [
    "2. Mari membuat dua list, \n",
    "   - `img_filenames` untuk menyimpan nama file dengan ekstensi .png, \n",
    "   - `labels` untuk menyimpan nama file dengan ekstensi .txt\n",
    "\n",
    "Hasilnya, dua list tersebut berisi nama file gambar dan label teks dari dokumen gambar yang kita miliki."
   ]
  },
  {
   "cell_type": "markdown",
   "metadata": {},
   "source": [
    "<div class=\"alert alert-info\">\n",
    "<b>💡 Bagaimana cara untuk membaca sebuah file di Python? </b>\n",
    "\n",
    "Membaca file di Python umumnya melibatkan penggunaan fungsi bawaan seperti `open()`. Di bawah ini adalah contoh sederhana tentang cara membaca file teks dan biner di Python:\n",
    "\n",
    "```python\n",
    "# Membuka file teks untuk dibaca (mode: 'r' untuk read)\n",
    "with open('nama_file.txt', 'r') as file:\n",
    "    # Membaca seluruh isi file ke dalam satu string\n",
    "    content = file.read()\n",
    "    print(content)\n",
    "```\n",
    "\n",
    "</div>"
   ]
  },
  {
   "cell_type": "code",
   "execution_count": null,
   "metadata": {},
   "outputs": [],
   "source": [
    "img_filenames = [] # list nama file gambar\n",
    "images = [] # list objek gambar\n",
    "labels = [] # list label dari gambar\n",
    "\n",
    "# iterasi direktori\n",
    "for file in os.listdir(dir_path):\n",
    "    if file.endswith(('.png', '.jpg', '.jpeg')):\n",
    "        # menyimpan nama invoice ke dalam list\n",
    "        img_filenames.append(file)\n",
    "        \n",
    "        # membuka dan menyimpan objek gambar ke dalam list\n",
    "        images.append(Image.open(dir_path + file))\n",
    "\n",
    "\n",
    "    elif file.endswith('.txt'):\n",
    "        # membuka file teks dan membaca isinya, lalu menyimpan ke dalam list\n",
    "        with open(dir_path + file, 'r') as label_file: \n",
    "            labels.append(label_file.read())\n"
   ]
  },
  {
   "cell_type": "code",
   "execution_count": null,
   "metadata": {},
   "outputs": [],
   "source": [
    "# mencetak list nama file gambar\n",
    "print(img_filenames)"
   ]
  },
  {
   "cell_type": "markdown",
   "metadata": {},
   "source": [
    "🔻 Mari coba kita lihat label dan gambar ke-7"
   ]
  },
  {
   "cell_type": "code",
   "execution_count": null,
   "metadata": {},
   "outputs": [],
   "source": [
    "# code here\n"
   ]
  },
  {
   "cell_type": "markdown",
   "metadata": {},
   "source": [
    "### 2️⃣ Document Pre-processing"
   ]
  },
  {
   "cell_type": "markdown",
   "metadata": {},
   "source": [
    "Sebagaimana umumnya pada model deep learning, diperlukan penyesuaian bentuk input sebelum dapat digunakan untuk prediksi atau pemrosesan lebih lanjut. Dalam konteks Donut Model, tahap ini melibatkan konversi gambar ke dalam format tensor dengan cara yang sederhana menggunakan alat yang disebut `Donut Processor`.\n",
    "\n",
    "🎯 Proses ini diperlukan karena model, terutama yang menggunakan framework seperti PyTorch, umumnya membutuhkan input dalam bentuk tensor."
   ]
  },
  {
   "cell_type": "code",
   "execution_count": null,
   "metadata": {},
   "outputs": [],
   "source": [
    "images[6].size"
   ]
  },
  {
   "cell_type": "code",
   "execution_count": null,
   "metadata": {},
   "outputs": [],
   "source": [
    "# pixel_values = ..."
   ]
  },
  {
   "cell_type": "markdown",
   "metadata": {},
   "source": [
    "✨ Keterangan: \n",
    "\n",
    "Makna ukuran pada tensor tersebut adalah `[jumlah batch, jumlah channel (RGB), tinggi, lebar]`. Dalam konteks ini, semua gambar diproses menjadi ukuran yang sama sebelum masuk ke model. Hal ini dilakukan karena model deep learning seringkali mensyaratkan **agar seluruh input memiliki dimensi yang konsisten**."
   ]
  },
  {
   "cell_type": "markdown",
   "metadata": {},
   "source": [
    "### 3️⃣ Sequence Generation\n",
    "\n",
    "Selanjutnya, kita membiarkan model Donut secara otoregresif menghasilkan data terstruktur, mengggunakan metode `.generate()`."
   ]
  },
  {
   "cell_type": "code",
   "execution_count": null,
   "metadata": {},
   "outputs": [],
   "source": [
    "task_prompt = \"<s_cord-v2>\""
   ]
  },
  {
   "cell_type": "markdown",
   "metadata": {},
   "source": [
    "✨ Secara umum, model Donut dapat digunakan untuk berbagai tugas, seperti:\n",
    "- Pemrosesan/Ekstraksi Dokumen (`<s_cord-v2`)\n",
    "- Klasifikasi Dokumen\n",
    "- Pertanyaan dan Jawaban Visual (VQA) pada Dokumen\n",
    "\n",
    "<img src=\"assets/overview-donut.png\" width=800></img>\n",
    "\n",
    "Oleh karena itu, ketika ingin menggunakan model untuk salah satu dari tugas-tugas tersebut, kita perlu menentukan `task_prompt` agar mengarahkan model Donut untuk fokus pada tugas spesifik yang diinginkan, sehingga output yang dihasilkan dapat lebih relevan dan bermakna sesuai dengan kebutuhan pengguna.\n",
    "\n",
    "Selengkapnya dapat di cek di [Official Github Donut](https://github.com/clovaai/donut)"
   ]
  },
  {
   "cell_type": "code",
   "execution_count": null,
   "metadata": {},
   "outputs": [],
   "source": [
    "outputs = model.generate(\n",
    "        inputs=pixel_values.to(device),\n",
    "        max_length=model.decoder.config.max_position_embeddings,\n",
    "        decoder_input_ids=processor.tokenizer(task_prompt, add_special_tokens=False, return_tensors=\"pt\")[\"input_ids\"].to(device),\n",
    "        pad_token_id=processor.tokenizer.pad_token_id,\n",
    "        eos_token_id=processor.tokenizer.eos_token_id,\n",
    "        bad_words_ids=[[processor.tokenizer.unk_token_id]],\n",
    "        return_dict_in_generate=True,\n",
    "        use_cache=True,\n",
    "        \n",
    "        # modify parameters\n",
    "        early_stopping=True,\n",
    "        num_beams=2,\n",
    "        output_scores=True,\n",
    "    )"
   ]
  },
  {
   "cell_type": "markdown",
   "metadata": {},
   "source": [
    "✨ Fungsi `model.generate()` pada model Donut memungkinkan untuk menghasilkan sequence text dari model. Parameter utama-utama adalah berikut\n",
    "\n",
    "- `inputs` : Nilai piksel dari gambar yang digunakan sebagai input untuk di-generate from doc to text.\n",
    "- `max_length`: Panjang maksimum dari urutan yang dihasilkan.\n",
    "- `decoder_input_ids`: ID input untuk dekoder. Di sini, tokenizer memproses `task_prompt` (prompt tugas yang ditentukan) dan menghasilkan ID yang relevan. `add_special_tokens=False` Menunjukkan bahwa token khusus tidak ditambahkan dalam proses tokenisasi.\n",
    "- `pad_token_id`: ID dari token padding.\n",
    "- `eos_token_id`: ID dari token akhir urutan.\n",
    "- `bad_words_ids`: Daftar ID kata yang harus dihindari oleh model saat melakukan generasi.\n",
    "- `return_dict_in_generate`: Mengembalikan output dalam format dictionary yang lebih mudah diakses.\n",
    "- `use_cache`: Menentukan apakah hasil perhitungan sebelumnya harus disimpan untuk digunakan kembali, untuk meningkatkan efisiensi.\n",
    "\n",
    "Parameter tambahannya adalah:\n",
    "- `early_stopping`: Jika diatur `True`, model akan berhenti menghasilkan output lebih lanjut jika syarat tertentu terpenuhi, seperti mencapai EOS token.\n",
    "- `num_beams`: Jumlah beams yang digunakan dalam pencarian beam.\n",
    "- `output_scores`: Apakah mengembalikan skor skor untuk setiap token yang dihasilkan bersamaan dengan teks.\n",
    "\n",
    "📌 Untuk informasi lebih rinci, silahkan merujuk ke dokumentasi 🍩 Donut [di sini](https://huggingface.co/docs/transformers/model_doc/donut)."
   ]
  },
  {
   "cell_type": "markdown",
   "metadata": {},
   "source": [
    "### 4️⃣ Document Post-Processing: Sequence Token Cleaning"
   ]
  },
  {
   "cell_type": "markdown",
   "metadata": {},
   "source": [
    "🔻 Output hasil generate dokumen menggunakan model Donut adalah tensor yang berisi sequence token-token yang perlu dilakukan decode sehingga kita dapat mengetahui isinya. Setiap angka dalam tensor ini merepresentasikan suatu token dalam model."
   ]
  },
  {
   "cell_type": "code",
   "execution_count": null,
   "metadata": {},
   "outputs": [],
   "source": [
    "# code here: check .sequences from the outputs\n"
   ]
  },
  {
   "cell_type": "markdown",
   "metadata": {},
   "source": [
    " 🔻Maka dari itu, mari kita lakukan decode menggunakan processor yang sebelumnya juga digunakan untuk mengencode dengan menggunakan perintah `processor.batch_decode()`"
   ]
  },
  {
   "cell_type": "code",
   "execution_count": null,
   "metadata": {},
   "outputs": [],
   "source": [
    "raw_sequence = processor.batch_decode(outputs.sequences)[0]\n",
    "print(raw_sequence)"
   ]
  },
  {
   "cell_type": "markdown",
   "metadata": {},
   "source": [
    "✨ Ini adalah teks terstruktur yang telah didekode dari tensor. Teks ini mencakup informasi terkait pesanan menu, jumlah, harga, dan total pembayaran. Strukturnya mencakup tag-tag XML (`<s_cord-v2>, <s_menu>, <s_nm>, <s_cnt>, <s_price>, <sep/>, <s_total>, <s_total_price>, <s_creditcardprice>`) yang memberikan konteks terhadap data yang terkandung."
   ]
  },
  {
   "cell_type": "markdown",
   "metadata": {},
   "source": [
    "🔻 Selanjutnya, dilakukan pembersihan terhadap teks. Tahap ini mencakup penghapusan `token EOS (</s>), token PAD (<pad>), dan tag pertama <s_cord-v2>` yang menandakan awal dari tugas pertama"
   ]
  },
  {
   "cell_type": "code",
   "execution_count": null,
   "metadata": {},
   "outputs": [],
   "source": [
    "sequence = raw_sequence.replace(processor.tokenizer.eos_token, \"\").replace(processor.tokenizer.pad_token, \"\") # remove </s> eos and <pad> token\n",
    "sequence = re.sub(r\"<.*?>\", \"\", sequence, count=1).strip()  # remove <s_cord-v2> first task start token\n",
    "sequence"
   ]
  },
  {
   "cell_type": "markdown",
   "metadata": {},
   "source": [
    "### 5️⃣ Output Conversion: Token to JSON\n",
    "\n",
    "✨ Output dari model Donut yang dihasilkan dapat kita ubah menjadi format JSON (JavaScript Object Notation), di Python mirip dengan dictionary, untuk memudahkan pengolahan dan analisis lebih lanjut. Format JSON/ dictionary memungkinkan representasi data yang terstruktur dan mudah diakses.\n",
    "\n",
    "Kita dapat menggunakan metode `token2json()` untuk melakukan hal tersebut."
   ]
  },
  {
   "cell_type": "code",
   "execution_count": null,
   "metadata": {},
   "outputs": [],
   "source": [
    "# code here: token to json\n"
   ]
  },
  {
   "cell_type": "code",
   "execution_count": null,
   "metadata": {},
   "outputs": [],
   "source": [
    "# gambar yang di generate (images[6])\n"
   ]
  },
  {
   "cell_type": "markdown",
   "metadata": {},
   "source": [
    "Di sini, kita akan mencapai hasil akhir dari proses generasi informasi dokumen menggunakan model Donut. "
   ]
  },
  {
   "cell_type": "markdown",
   "metadata": {},
   "source": [
    "### 🍩 All-in-One Function to Generate Document Information "
   ]
  },
  {
   "cell_type": "markdown",
   "metadata": {},
   "source": [
    "💡 Untuk memudahkan dan mengotomatisasi proses ini, khususnya ketika bekerja dengan banyak gambar, kita akan menggabungkan seluruh langkah, dari 1 hingga 5, ke dalam satu fungsi. Dengan demikian, kita dapat dengan mudah menerapkan fungsi ini pada banyak gambar secara berurutan melalui looping. "
   ]
  },
  {
   "cell_type": "code",
   "execution_count": null,
   "metadata": {},
   "outputs": [],
   "source": [
    "def doc_to_text(input_img, task_prompt=task_prompt, model=model, processor=processor):\n",
    "    # set model device\n",
    "    device = \"cuda\" if torch.cuda.is_available() else \"cpu\"\n",
    "    model.to(device)\n",
    "    \n",
    "    # document preprocessing\n",
    "    pixel_values = processor(input_img, return_tensors=\"pt\").pixel_values\n",
    "    decoder_input_ids = processor.tokenizer(task_prompt, add_special_tokens=False, return_tensors=\"pt\")[\"input_ids\"]\n",
    "\n",
    "    # sequence generation\n",
    "    outputs = model.generate(\n",
    "        pixel_values.to(device),\n",
    "        decoder_input_ids=decoder_input_ids.to(device),\n",
    "        max_length=model.decoder.config.max_position_embeddings,\n",
    "        pad_token_id=processor.tokenizer.pad_token_id,\n",
    "        eos_token_id=processor.tokenizer.eos_token_id,\n",
    "        use_cache=True,\n",
    "        bad_words_ids=[[processor.tokenizer.unk_token_id]],\n",
    "        return_dict_in_generate=True,\n",
    "        \n",
    "        # modify parameters\n",
    "        early_stopping=True,\n",
    "        num_beams=2,\n",
    "        output_scores=True,\n",
    "    )\n",
    "    \n",
    "    # document post-processing: sequence token cleaning\n",
    "    sequence = processor.batch_decode(outputs.sequences)[0]\n",
    "    sequence = sequence.replace(processor.tokenizer.eos_token, \"\").replace(processor.tokenizer.pad_token, \"\")\n",
    "    sequence = re.sub(r\"<.*?>\", \"\", sequence, count=1).strip()  # remove first task start token\n",
    "    print(sequence)\n",
    "\n",
    "    # output conversion: token to json\n",
    "    output = processor.token2json(sequence)\n",
    "\n",
    "    return output"
   ]
  },
  {
   "cell_type": "markdown",
   "metadata": {},
   "source": [
    "🔻 Mari kita coba men-generate 20 gambar receipt/invoice yang kita miliki!"
   ]
  },
  {
   "cell_type": "code",
   "execution_count": null,
   "metadata": {},
   "outputs": [],
   "source": [
    "# list untuk menyimpan hasil generate docs to text\n",
    "preds = []\n",
    "\n",
    "# code here: buatlah looping untuk predict 20 image dan disimpan di preds\n",
    "# ...\n"
   ]
  },
  {
   "cell_type": "code",
   "execution_count": null,
   "metadata": {},
   "outputs": [],
   "source": [
    "# code here: cek hasil prediksinya"
   ]
  },
  {
   "cell_type": "markdown",
   "metadata": {},
   "source": [
    "## Data Analysis Enhancement with Donut Outputs\n",
    "\n",
    "Agar mempermudah dalam kita menganalisis hasil model Donut maka kita perlu mengubah data generated text tersebut menjadi sebuah tabel.\n",
    "\n",
    "<div class=\"alert alert-info\">\n",
    "<b>🎡 Fun Fact</b>: Data dalam format JSON dapat secara otomatis dianggap sebagai dictionary di dalam Python, khususnya dengan library pandas. Ini karena struktur JSON sangat mirip dengan dictionary Python, dengan pasangan key-value yang mudah diakses.\n",
    "</div>"
   ]
  },
  {
   "cell_type": "markdown",
   "metadata": {},
   "source": [
    "### Transform Donut Outputs to Dataframe `pandas`\n",
    "\n",
    "Kita cukup menggunakan `pd.DataFrame.from_dict()`, `pandas` secara otomatis mengonversi struktur JSON tersebut ke dalam bentuk tabel."
   ]
  },
  {
   "cell_type": "code",
   "execution_count": null,
   "metadata": {},
   "outputs": [],
   "source": [
    "# df_preds = ..."
   ]
  },
  {
   "cell_type": "markdown",
   "metadata": {},
   "source": [
    "> 📈 **Insight**: Setiap baris pada dataframe kita mewakili ..."
   ]
  },
  {
   "cell_type": "markdown",
   "metadata": {},
   "source": [
    "🔻 Mari kita cek missing value-nya menggunakan metode `isna().sum()`"
   ]
  },
  {
   "cell_type": "code",
   "execution_count": null,
   "metadata": {},
   "outputs": [],
   "source": [
    "# code here\n"
   ]
  },
  {
   "cell_type": "markdown",
   "metadata": {},
   "source": [
    "> 📈 **Insight**: Dalam kasus kali ini kolom sub_total akan diabaikan karena kita akan mencoba mengambil total harga keseluruhan, harga per item, dan jumlah per item saja. Maka dari itu, kita tidak perlu membuat data yang subtotalnya kosong (NaN)"
   ]
  },
  {
   "cell_type": "markdown",
   "metadata": {},
   "source": [
    "#### **💭 Discussion**\n",
    "❓ Apakah menurut Anda, bentuk dataframe data invoice kita sudah cukup rapi/mudah dianalisis?"
   ]
  },
  {
   "cell_type": "markdown",
   "metadata": {},
   "source": [
    "> Kita memiliki data struk yang belum terorganisir dengan baik, dimana informasi menu, total, dan sub-total disajikan dalam satu baris. "
   ]
  },
  {
   "cell_type": "markdown",
   "metadata": {},
   "source": [
    "### Data Wrangling"
   ]
  },
  {
   "cell_type": "markdown",
   "metadata": {},
   "source": [
    "🔻 Untuk memudahkan analisis, kita akan memecah data ini sehingga setiap item pada struk diwakili dalam baris tersendiri, lengkap dengan ID struknya. Pendekatan ini akan mempermudah pengolahan dan analisis data."
   ]
  },
  {
   "cell_type": "markdown",
   "metadata": {},
   "source": [
    "1. Membuat dataframe kosong untuk menjadi tempat pengisian data kita."
   ]
  },
  {
   "cell_type": "code",
   "execution_count": null,
   "metadata": {},
   "outputs": [],
   "source": [
    "df = pd.DataFrame(columns=['receipt_id', 'nm', 'cnt', 'price', 'total_price'])\n",
    "df"
   ]
  },
  {
   "cell_type": "code",
   "execution_count": null,
   "metadata": {},
   "outputs": [],
   "source": [
    "# cara mengecek jumlah baris pada suatu dataframe\n",
    "len(df)"
   ]
  },
  {
   "cell_type": "markdown",
   "metadata": {},
   "source": [
    "2. Memasukkan seluruh data pada `df_preds` ke `df` dengan memanfaatkan looping `.iterrows()`. \n",
    "\n",
    "💡 `.iterrows()` merupakan metode pada objek DataFrame yang menghasilkan pasangan (index, row) untuk DataFrame tersebut"
   ]
  },
  {
   "cell_type": "code",
   "execution_count": null,
   "metadata": {},
   "outputs": [],
   "source": [
    "# mengiterasi setiap rrow dalam df_preds\n",
    "for index, row in df_preds.iterrows():\n",
    "\n",
    "    # mengecek apakah field 'menu' adalah list, jika tidak, ubah menjadi list\n",
    "    menus = row['menu'] if isinstance(row['menu'], list) else [row['menu']]\n",
    "\n",
    "    # mengiterasi setiap elemen dalam list 'menus'\n",
    "    for menu in menus:\n",
    "        # menambahkan row baru ke 'df' dengan informasi dari 'menu' serta tambahan 'total_price' dan 'receipt_id'\n",
    "        df.loc[len(df)] = {\n",
    "            **menu,  # unpack semua pasangan key-value dari dictionary 'menu' yang cocok dg nama kolom yg ada\n",
    "            'total_price': row['total']['total_price'],  # mengambil 'total_price' dari baris saat ini\n",
    "            'receipt_id': img_filenames[index].split('.')[0]  # mengambil ID struk dari nama file gambar\n",
    "        }"
   ]
  },
  {
   "cell_type": "markdown",
   "metadata": {},
   "source": [
    "💡`**dict` : Melakukan unpack semua pasangan key-value dari dictionary 'dict'\n",
    "\n",
    "💡`df.loc[]` : Metode yang digunakan untuk mengakses baris atau kolom tertentu dari DataFrame berdasarkan nama/labelnya"
   ]
  },
  {
   "cell_type": "code",
   "execution_count": null,
   "metadata": {},
   "outputs": [],
   "source": [
    "df"
   ]
  },
  {
   "cell_type": "markdown",
   "metadata": {},
   "source": [
    "> **📈 Insight**: ..."
   ]
  },
  {
   "cell_type": "markdown",
   "metadata": {},
   "source": [
    "🔻 Mari kita simpan data document extracted yang sudah kita lakukan agar terecord dengan baik"
   ]
  },
  {
   "cell_type": "code",
   "execution_count": null,
   "metadata": {},
   "outputs": [],
   "source": [
    "# menyimpan DataFrame 'df' ke dalam file csv\n",
    "df.to_csv('receipt_extracted.csv', \n",
    "          index=False)  # berarti indeks DataFrame tidak disertakan dalam file csv\n"
   ]
  },
  {
   "cell_type": "markdown",
   "metadata": {},
   "source": [
    "### Data Cleaning"
   ]
  },
  {
   "cell_type": "code",
   "execution_count": null,
   "metadata": {},
   "outputs": [],
   "source": [
    "# cek tipe data\n",
    "df.info()"
   ]
  },
  {
   "cell_type": "markdown",
   "metadata": {},
   "source": [
    "🔻Nama kolom masih kurang informatif, maka kita akan coba menggantinya menggunakan metode `.rename()`"
   ]
  },
  {
   "cell_type": "code",
   "execution_count": null,
   "metadata": {},
   "outputs": [],
   "source": [
    "new_columns_name = {\n",
    "    'nm': 'item_name',\n",
    "    'cnt': 'quantity'\n",
    "}\n",
    "\n",
    "df = df.rename(columns=new_columns_name)\n",
    "df.head()"
   ]
  },
  {
   "cell_type": "markdown",
   "metadata": {},
   "source": [
    "🔻 Jika kita lihat kembali kolom `price` maupun `total_price` seharusnya memiliki tipe data int/float. Maka dari itu kita perlu melakukan pembersihan `,`. \n",
    "` `"
   ]
  },
  {
   "cell_type": "code",
   "execution_count": null,
   "metadata": {},
   "outputs": [],
   "source": [
    "# fungsi untuk membersihkan string harga dari simbol dan spasi\n",
    "def clean_price(x):\n",
    "    return int(x.replace(\".\", \"\").replace(\",\", \"\").replace(\"Rp\", \"\").replace(\" \", \"\"))\n"
   ]
  },
  {
   "cell_type": "markdown",
   "metadata": {},
   "source": [
    "Mari kita coba aplikasikan fungsi `clean_price` terhadap salah satu baris pada data kita"
   ]
  },
  {
   "cell_type": "code",
   "execution_count": null,
   "metadata": {},
   "outputs": [],
   "source": [
    "# code here\n"
   ]
  },
  {
   "cell_type": "markdown",
   "metadata": {},
   "source": [
    "❓ Lalu, bagaimana cara mengaplikasikan fungsi tersebut untuk semua baris tanpa kita melakukan satu persatu? \n",
    "\n",
    "> Jawabannya, kita bisa memanfaatkan fungsi `.apply()`\n",
    "\n",
    "💡 Fungsi `apply` memungkinkan kita untuk menjalankan suatu fungsi terhadap setiap elemen dalam sebuah kolom secara otomatis. Contohnya, jika kita ingin membersihkan format harga dalam kolom 'price' di DataFrame df, kita bisa melakukan hal berikut:"
   ]
  },
  {
   "cell_type": "code",
   "execution_count": null,
   "metadata": {},
   "outputs": [],
   "source": [
    "# mengaplikasikan fungsi 'clean_price' ke setiap elemen di kolom 'price' pada 'df'\n",
    "df['price'] = df['price'].apply(lambda x: clean_price(str(x)))"
   ]
  },
  {
   "cell_type": "code",
   "execution_count": null,
   "metadata": {},
   "outputs": [],
   "source": [
    "# code here: mengaplikasikan fungsi 'clean_price' ke setiap elemen di kolom 'total_price' pada 'df'\n"
   ]
  },
  {
   "cell_type": "markdown",
   "metadata": {},
   "source": [
    "🔻 Selanjutnya, kita akan coba membersihkan kolom `quantity` seharusnya memiliki tipe data int/float. Maka dari itu kita perlu melakukan pembersihan `,`. \n",
    "` `, serta `X` "
   ]
  },
  {
   "cell_type": "markdown",
   "metadata": {},
   "source": [
    "Mari kita buat custom fungsinya terlebih dahulu:"
   ]
  },
  {
   "cell_type": "code",
   "execution_count": null,
   "metadata": {},
   "outputs": [],
   "source": [
    "# membersihkan dan mengkonversi nilai 'x' menjadi float\n",
    "def clean_quantity(x):\n",
    "    # jika 'x' bernilai None (tidak ada data), kembalikan 0\n",
    "    if x is None:\n",
    "        return 0\n",
    "\n",
    "    # mengonversi 'x' ke string, menghapus spasi, 'x'/'X', dan ']' dari string tersebut, dan mengembalikan menjadi sebuah angka\n",
    "    return float(str(x).replace(\" \", \"\").replace(\"x\", \"\").replace(\"X\", \"\").replace(\"]\", \"\"))\n"
   ]
  },
  {
   "cell_type": "code",
   "execution_count": null,
   "metadata": {},
   "outputs": [],
   "source": [
    "# code here: mengaplikasikan fungsi 'clean_quantity' ke setiap elemen di kolom 'quantity' pada 'df'\n"
   ]
  },
  {
   "cell_type": "markdown",
   "metadata": {},
   "source": [
    "### 🤿 (Opsional) Dive Deeper: 🍩 Advanced Document Extracted Dataframe \n",
    "\n",
    "Misalkan Anda bekerja sebagai data scientist di sebuah supermarket dengan dataset yang mencatat transaksi penjualannya. Dataset ini berisi informasi tentang ID struk (`receipt_id`), harga total per struk (`total_price`), dan nama item yang terjual (`item_name`). \n",
    "\n",
    "Untuk mendapatkan wawasan yang lebih terstruktur dari data penjualan ini, Anda diminta membuat tabel pivot yang mengelompokkan dan menyajikan data berdasarkan `receipt_id`, `total_price`."
   ]
  },
  {
   "cell_type": "code",
   "execution_count": null,
   "metadata": {},
   "outputs": [],
   "source": [
    "# code here\n",
    "df_pivot = df.pivot_table(index=['receipt_id', 'total_price', 'item_name'])\n",
    "df_pivot"
   ]
  },
  {
   "cell_type": "markdown",
   "metadata": {},
   "source": [
    "___\n",
    "\n",
    "# Integration Gradio for Efficient Scanning\n",
    "\n",
    "🛠️ [**Gradio**](https://www.gradio.app/) adalah sebuah library Python yang digunakan untuk membangun antarmuka web yang mudah digunakan untuk aplikasi berbasis machine learning. Dengan Gradio, kita dapat dengan cepat membuat antarmuka untuk model machine learning sehingga pengguna dapat dengan mudah berinteraksi dengannya tanpa harus memiliki pengetahuan teknis yang mendalam tentang pemrograman atau machine learning.\n",
    "\n",
    "Berikut adalah contoh web-app menggunakan Gradio: \n",
    "\n",
    "<img src=\"assets/gradio-example.jpg\" width=800></img>\n"
   ]
  },
  {
   "cell_type": "markdown",
   "metadata": {},
   "source": [
    "## Understand the Fundamentals of Gradio\n",
    "\n",
    "`gr.Interface()` adalah kelas utama dalam Gradio yang digunakan untuk membuat antarmuka pengguna (UI) interaktif untuk model machine learning atau fungsi Python lainnya. Ini memungkinkan developer dengan cepat membuat aplikasi web yang dapat menerima input dari pengguna dan memberikan output atau hasil dari model atau fungsi yang diintegrasikan.\n",
    "\n",
    "Berikut adalah konsep utama dan parameter `gr.Interface`:"
   ]
  },
  {
   "cell_type": "code",
   "execution_count": null,
   "metadata": {},
   "outputs": [],
   "source": [
    "import gradio as gr"
   ]
  },
  {
   "cell_type": "markdown",
   "metadata": {},
   "source": [
    "### Main Concept:\n",
    "\n",
    "```python\n",
    "gr.Interface(input=, output=, fn=, live=)\n",
    "```\n",
    "\n",
    "- 📥**Inputs (\"input\")**: Menentukan jenis input yang akan diterima oleh antarmuka. Contoh: `\"text\"`, `\"image\"`, `\"video\"`, `\"json\"`, `\"audio\"` atau kombinasi `\"text\"`, `\"image\"`.\n",
    "\n",
    "- 📤**Outputs (\"output\")**: Menentukan jenis output yang akan dihasilkan oleh antarmuka. Contoh: `\"text\"`, `\"image\"`, `\"video\"`, `\"json\"`, `\"audio\"` atau kombinasi `\"text\"`, `\"image\"`.\n",
    "\n",
    "- ⚒️ **Function (\"fn\")**: Fungsi Python yang akan dijalankan ketika ada input dari pengguna. Bisa berupa model machine learning atau fungsi khusus lainnya.\n",
    "\n",
    "- 🌐 **Share (\"share\")**: Boolean, menentukan apakah dibuatkan public link atau tidak (temporary 72 hours deployment). Contoh: `True` atau `False`."
   ]
  },
  {
   "cell_type": "markdown",
   "metadata": {},
   "source": [
    "\n",
    "### Additional `gr.Interface` Parameters:\n",
    "\n",
    "- **`title`**: Judul antarmuka yang akan ditampilkan di halaman web. Contoh: `\"My Gradio App\"`.\n",
    "\n",
    "- **`description`**: Deskripsi antarmuka yang akan ditampilkan di halaman web. Contoh: `\"A simple app for image classification\"`.\n",
    "\n",
    "- **`sidebar`**: Menentukan apakah sidebar akan ditampilkan atau tidak. Contoh: `True` atau `False`.\n",
    "  \n",
    "- **`live`**: Menentukan apakah antarmuka akan memberikan pembaruan langsung. Contoh: `True` atau `False`."
   ]
  },
  {
   "cell_type": "markdown",
   "metadata": {},
   "source": [
    "### Simple Examples of Usage\n",
    "\n",
    "Berikut adalah contoh sederhana penggunaan `gr.Interface`:"
   ]
  },
  {
   "cell_type": "code",
   "execution_count": null,
   "metadata": {},
   "outputs": [],
   "source": [
    "import gradio as gr\n",
    "\n",
    "def my_function(name_text):\n",
    "    return f\"Hello, {name_text}. Nice to meet you!\"\n",
    "\n",
    "test = gr.Interface(fn=my_function, inputs=\"text\", outputs=\"text\", live=True, title=\"Hello World App\")\n",
    "test.launch()"
   ]
  },
  {
   "cell_type": "markdown",
   "metadata": {},
   "source": [
    "> **📈 Insight:** Pada contoh di atas, kita membuat antarmuka yang menerima input teks dan mengembalikan output teks yang merupakan cetakan dari input pengguna.Kita dapat menggabungkan input dan output yang berbeda serta menyesuaikan parameter sesuai kebutuhan aplikasi yang dibangun."
   ]
  },
  {
   "cell_type": "markdown",
   "metadata": {},
   "source": [
    "## Develop Gradio for Real-time Receipt and Invoice Scanning\n",
    "\n",
    "🔻 Mari kita buat aplikasi aplikasi Gradio yang memungkinkan pengguna melakukan pemindaian dan ekstraksi teks secara real-time pada struktur dokumen seperti kwitansi dan invoice dengan memanfaatkan fungsi `doc_to_text` yang telah kita rancang sebelumnya."
   ]
  },
  {
   "cell_type": "code",
   "execution_count": null,
   "metadata": {},
   "outputs": [],
   "source": [
    "model.eval()\n",
    "\n",
    "# code here: let's create gradio\n",
    "# ..."
   ]
  },
  {
   "cell_type": "markdown",
   "metadata": {},
   "source": [
    "⚒️ Keunggulan Gradio with Donut:\n",
    "\n",
    "1. **Efisiensi dan Kepresisian:**\n",
    "   Mampu mengekstrak teks dari dokumen secara cepat dan akurat, menghemat waktu tanpa perlu proses manual.\n",
    "\n",
    "2. **Peningkatan Produktivitas:**\n",
    "   Mempermudah pengelolaan informasi dari kwitansi dan faktur, meningkatkan produktivitas dalam pencatatan keuangan dan pelacakan pengeluaran sehari-hari.\n",
    "\n",
    "3. **Aksesibilitas dan Kemudahan Penggunaan:**\n",
    "   Gradio memberikan antarmuka yang intuitif, memungkinkan pengguna mengunggah gambar dokumen dengan cepat tanpa memerlukan keahlian teknis.\n",
    "\n",
    "Dengan demikian, aplikasi ini tidak hanya **berpotensi** memberikan solusi teknis, tetapi juga meningkatkan efisiensi dan kenyamanan dalam mengelola informasi dari dokumen struktural seperti kwitansi dan faktur."
   ]
  },
  {
   "cell_type": "markdown",
   "metadata": {},
   "source": [
    "## (Opsional): Deploy the Gradio\n",
    "\n",
    "✨ Tutorial:\n",
    "- https://huggingface.co/blog/gradio-spaces\n",
    "- https://www.gradio.app/guides/sharing-your-app"
   ]
  },
  {
   "cell_type": "markdown",
   "metadata": {},
   "source": [
    "# Reference\n",
    "\n",
    "- Paper:\n",
    "    - [Donut: OCR-free Document Understanding Transformer](https://arxiv.org/pdf/2111.15664.pdf)\n",
    "    - [Attention & Transformer: Attention is All You Need](https://arxiv.org/pdf/1706.03762.pdf)\n",
    "    - [Swin Transformer: Hierarchical Vision Transformer using Shifted Windows](https://arxiv.org/pdf/2103.14030.pdf)\n",
    "    - [Neural Machine Translation by Jointly Learning to Align and Translate](https://arxiv.org/pdf/1409.0473.pdf)"
   ]
  },
  {
   "cell_type": "markdown",
   "metadata": {},
   "source": [
    "# [Additional] 🛠️ Tools Verification\n",
    "\n",
    "1. Membuat environtmet conda bernama `dss_donut` dengan python=3.10\n",
    "2. Aktifkan environtment dengan `conda activate dss_donut`\n",
    "3. Lakukan `pip install -r requirements.txt`"
   ]
  },
  {
   "cell_type": "code",
   "execution_count": null,
   "metadata": {},
   "outputs": [],
   "source": [
    "import re\n",
    "import os\n",
    "import torch\n",
    "\n",
    "import gradio as gr\n",
    "from PIL import Image\n",
    "from transformers import DonutProcessor, VisionEncoderDecoderModel\n",
    "\n",
    "processor = DonutProcessor.from_pretrained(\"naver-clova-ix/donut-base-finetuned-cord-v2\")\n",
    "model = VisionEncoderDecoderModel.from_pretrained(\"naver-clova-ix/donut-base-finetuned-cord-v2\")"
   ]
  }
 ],
 "metadata": {
  "kernelspec": {
   "display_name": "dss_donut",
   "language": "python",
   "name": "python3"
  },
  "language_info": {
   "codemirror_mode": {
    "name": "ipython",
    "version": 3
   },
   "file_extension": ".py",
   "mimetype": "text/x-python",
   "name": "python",
   "nbconvert_exporter": "python",
   "pygments_lexer": "ipython3",
   "version": "3.10.13"
  }
 },
 "nbformat": 4,
 "nbformat_minor": 2
}
